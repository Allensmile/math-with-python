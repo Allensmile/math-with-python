{
 "cells": [
  {
   "cell_type": "code",
   "execution_count": 1,
   "metadata": {
    "collapsed": false
   },
   "outputs": [
    {
     "data": {
      "image/png": "[encoded data removed]",
      "text/plain": [
       "<matplotlib.figure.Figure at 0x106a16128>"
      ]
     },
     "metadata": {},
     "output_type": "display_data"
    }
   ],
   "source": [
    "%matplotlib inline\n",
    "import matplotlib.pyplot as plt\n",
    "import matplotlib.lines as lines\n",
    "\n",
    "fig, ax = plt.subplots()\n",
    "\n",
    "fig.set_size_inches(7,7)          # Make graph square\n",
    "plt.scatter([-0.1],[-0.1],s=0.01)     # Move graph window a little left and down\n",
    "\n",
    "line1 = [(0,0), (1,0)]\n",
    "line2 = [(0,0), (0,1)]\n",
    "\n",
    "# Note that the Line2D takes a list of x values and a list of y values,\n",
    "# not 2 points as one might expect.  So we have to convert our points\n",
    "# an x-list and a y-list.\n",
    "(line1_xs, line1_ys) = zip(*line1)\n",
    "(line2_xs, line2_ys) = zip(*line2)\n",
    "\n",
    "ax.add_line(lines.Line2D(line1_xs, line1_ys, linewidth=2, color='blue'))\n",
    "ax.add_line(lines.Line2D(line2_xs, line2_ys, linewidth=2, color='red'))\n",
    "plt.plot()\n",
    "plt.show()"
   ]
  },
  {
   "cell_type": "code",
   "execution_count": 1,
   "metadata": {
    "collapsed": false
   },
   "outputs": [],
   "source": []
  }
 ],
 "metadata": {
  "kernelspec": {
   "display_name": "Python 3",
   "language": "python",
   "name": "python3"
  },
  "language_info": {
   "codemirror_mode": {
    "name": "ipython",
    "version": 3
   },
   "file_extension": ".py",
   "mimetype": "text/x-python",
   "name": "python",
   "nbconvert_exporter": "python",
   "pygments_lexer": "ipython3",
   "version": "3.5.1"
  }
 },
 "nbformat": 4,
 "nbformat_minor": 0
}
