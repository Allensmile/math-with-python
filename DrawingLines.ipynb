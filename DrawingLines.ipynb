{
 "metadata": {
  "name": "",
  "signature": "sha256:2099b59bbcb6123060a728055e297d4914c0fb3cc6d36da71c744feed5803e7c"
 },
 "nbformat": 3,
 "nbformat_minor": 0,
 "worksheets": [
  {
   "cells": [
    {
     "cell_type": "code",
     "collapsed": false,
     "input": [
      "%matplotlib inline\n",
      "import matplotlib.pyplot as plt\n",
      "import matplotlib.lines as lines\n",
      "\n",
      "fig, ax = plt.subplots()\n",
      "\n",
      "fig.set_size_inches(7,7)          # Make graph square\n",
      "plt.scatter([-0.1],[-0.1],s=0.01)     # Move graph window a little left and down\n",
      "\n",
      "line1 = [(0,0), (1,0)]\n",
      "line2 = [(0,0), (0,1)]\n",
      "\n",
      "# Note that the Line2D takes a list of x values and a list of y values,\n",
      "# not 2 points as one might expect.  So we have to convert our points\n",
      "# an x-list and a y-list.\n",
      "(line1_xs, line1_ys) = zip(*line1)\n",
      "(line2_xs, line2_ys) = zip(*line2)\n",
      "\n",
      "ax.add_line(lines.Line2D(line1_xs, line1_ys, linewidth=2, color='blue'))\n",
      "ax.add_line(lines.Line2D(line2_xs, line2_ys, linewidth=2, color='red'))\n",
      "plt.plot()\n",
      "plt.show()"
     ],
     "language": "python",
     "metadata": {},
     "outputs": [
      {
       "metadata": {},
       "output_type": "display_data",
       "png": "[encoded data removed]",
       "text": [
        "<matplotlib.figure.Figure at 0x112ddbb90>"
       ]
      }
     ],
     "prompt_number": 1
    },
    {
     "cell_type": "code",
     "collapsed": false,
     "input": [],
     "language": "python",
     "metadata": {},
     "outputs": [],
     "prompt_number": 1
    }
   ],
   "metadata": {}
  }
 ]
}