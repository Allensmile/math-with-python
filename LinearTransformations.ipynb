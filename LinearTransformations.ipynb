{
 "cells": [
  {
   "cell_type": "markdown",
   "metadata": {},
   "source": [
    "### Rotation"
   ]
  },
  {
   "cell_type": "code",
   "execution_count": 1,
   "metadata": {
    "collapsed": false
   },
   "outputs": [
    {
     "data": {
      "text/plain": [
       "<matplotlib.collections.PathCollection at 0x10f082978>"
      ]
     },
     "execution_count": 1,
     "metadata": {},
     "output_type": "execute_result"
    },
    {
     "data": {
      "image/png": "[encoded data removed]",
      "text/plain": [
       "<matplotlib.figure.Figure at 0x10dcd99b0>"
      ]
     },
     "metadata": {},
     "output_type": "display_data"
    }
   ],
   "source": [
    "%matplotlib inline\n",
    "import matplotlib.pyplot as plt\n",
    "import numpy as np\n",
    "\n",
    "# Make graph nice\n",
    "fig, ax = plt.subplots()\n",
    "fig.set_size_inches(6,6)\n",
    "bounds = [(10,10), (10,-10), (-10,10), (-10,-10)]\n",
    "(bx,by) = zip(*bounds)\n",
    "plt.scatter(bx, by, s=0.01)\n",
    "\n",
    "# Smiley face points\n",
    "points = [       (4,5),        (6,5),\n",
    "          (3,3), (4,3), (5,3), (6,3), (7,3)]\n",
    "\n",
    "# Plot points\n",
    "(xs, ys) = zip(*points)\n",
    "plt.scatter(xs, ys, c='blue')\n",
    "\n",
    "# Rotation matrix\n",
    "rotation_mat = np.asarray([[0, -1], [1, 0]])\n",
    "points_mat = np.asarray(points)\n",
    "\n",
    "# Plot rotated matrix\n",
    "rotated = np.dot(rotation_mat, points_mat.T).T\n",
    "(rx, ry) = zip(*rotated)\n",
    "plt.scatter(rx, ry, c='red')\n"
   ]
  },
  {
   "cell_type": "code",
   "execution_count": null,
   "metadata": {
    "collapsed": true
   },
   "outputs": [],
   "source": []
  }
 ],
 "metadata": {
  "kernelspec": {
   "display_name": "Python 3",
   "language": "python",
   "name": "python3"
  },
  "language_info": {
   "codemirror_mode": {
    "name": "ipython",
    "version": 3
   },
   "file_extension": ".py",
   "mimetype": "text/x-python",
   "name": "python",
   "nbconvert_exporter": "python",
   "pygments_lexer": "ipython3",
   "version": "3.5.1"
  }
 },
 "nbformat": 4,
 "nbformat_minor": 0
}
