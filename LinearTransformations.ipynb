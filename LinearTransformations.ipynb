{
 "metadata": {
  "name": "",
  "signature": "sha256:3b3f467ca9ae132d0bc166b4b587fce5c427e1c5b46178596235e2c93def82d2"
 },
 "nbformat": 3,
 "nbformat_minor": 0,
 "worksheets": [
  {
   "cells": [
    {
     "cell_type": "markdown",
     "metadata": {},
     "source": [
      "### Rotation"
     ]
    },
    {
     "cell_type": "code",
     "collapsed": false,
     "input": [
      "%matplotlib inline\n",
      "import matplotlib.pyplot as plt\n",
      "import numpy as np\n",
      "\n",
      "# Make graph nice\n",
      "fig, ax = plt.subplots()\n",
      "fig.set_size_inches(6,6)\n",
      "bounds = [(10,10), (10,-10), (-10,10), (-10,-10)]\n",
      "(bx,by) = zip(*bounds)\n",
      "plt.scatter(bx, by, s=0.01)\n",
      "\n",
      "# Smiley face points\n",
      "points = [       (4,5),        (6,5),\n",
      "          (3,3), (4,3), (5,3), (6,3), (7,3)]\n",
      "\n",
      "# Plot points\n",
      "(xs, ys) = zip(*points)\n",
      "plt.scatter(xs, ys, c='blue')\n",
      "\n",
      "# Rotation matrix\n",
      "rotation_mat = np.asarray([[0, -1], [1, 0]])\n",
      "points_mat = np.asarray(points)\n",
      "\n",
      "# Plot rotated matrix\n",
      "rotated = np.dot(rotation_mat, points_mat.T).T\n",
      "(rx, ry) = zip(*rotated)\n",
      "plt.scatter(rx, ry, c='red')\n"
     ],
     "language": "python",
     "metadata": {},
     "outputs": [
      {
       "metadata": {},
       "output_type": "pyout",
       "prompt_number": 1,
       "text": [
        "<matplotlib.collections.PathCollection at 0x10d8f24d0>"
       ]
      },
      {
       "metadata": {},
       "output_type": "display_data",
       "png": "[encoded data removed]",
       "text": [
        "<matplotlib.figure.Figure at 0x10d83b590>"
       ]
      }
     ],
     "prompt_number": 1
    }
   ],
   "metadata": {}
  }
 ]
}