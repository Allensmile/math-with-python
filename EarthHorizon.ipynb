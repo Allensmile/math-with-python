{
 "cells": [
  {
   "cell_type": "markdown",
   "metadata": {},
   "source": [
    "# Earth Horizon calculation"
   ]
  },
  {
   "cell_type": "markdown",
   "metadata": {},
   "source": [
    "![earth math graph](images/earth_dist.JPG)"
   ]
  },
  {
   "cell_type": "code",
   "execution_count": 1,
   "metadata": {
    "collapsed": true
   },
   "outputs": [],
   "source": [
    "import math\n",
    "\n",
    "earth_radius = 3959  # mi\n",
    "earth_circumference = earth_radius * 2 * math.pi  # 24875 mi"
   ]
  },
  {
   "cell_type": "code",
   "execution_count": 33,
   "metadata": {
    "collapsed": true
   },
   "outputs": [],
   "source": [
    "def min_visible_height(arc_distance):\n",
    "    # Find angle in radians by dividing arc distance by circumference and mult by 2pi\n",
    "    angle = (arc_distance / earth_circumference) * 2 * math.pi\n",
    "    hyp = earth_radius / math.cos(angle)\n",
    "    return hyp - earth_radius"
   ]
  },
  {
   "cell_type": "code",
   "execution_count": 34,
   "metadata": {
    "collapsed": false
   },
   "outputs": [
    {
     "data": {
      "text/plain": [
       "0.3285147584206243"
      ]
     },
     "execution_count": 34,
     "metadata": {},
     "output_type": "execute_result"
    }
   ],
   "source": [
    "# Min visible height (above center of earth) visible from 51 miles away\n",
    "min_visible_height(51)"
   ]
  },
  {
   "cell_type": "markdown",
   "metadata": {},
   "source": [
    "So at 51 miles, you should be able to see something 0.33 miles high. The sears tower is 1729 feet, which is 1729/5280 = 0.33 miles high. So at about 51 miles out, you should no longer be able to see the Sears tower, assuming you are at the level of the lake. Also, the [Mirage](https://en.wikipedia.org/wiki/Mirage) effect can also change this.\n",
    "\n",
    "Double-check: according to https://en.wikipedia.org/wiki/Horizon:\n",
    "\n",
    "For an observer standing at the top of the Burj Khalifa (828 metres (2,717 ft) in height), the horizon is at a distance of 103 kilometres (64 mi)."
   ]
  },
  {
   "cell_type": "code",
   "execution_count": 35,
   "metadata": {
    "collapsed": false
   },
   "outputs": [
    {
     "data": {
      "text/plain": [
       "0.5173586827822874"
      ]
     },
     "execution_count": 35,
     "metadata": {},
     "output_type": "execute_result"
    }
   ],
   "source": [
    "# Check against  \n",
    "min_visible_height(64)"
   ]
  },
  {
   "cell_type": "markdown",
   "metadata": {},
   "source": [
    "So at 64 miles, the minimum height you could see is 0.51 miles, which is 2692 feet. The Burj Khalifa is 2717 feet, which checks out."
   ]
  },
  {
   "cell_type": "code",
   "execution_count": null,
   "metadata": {
    "collapsed": true
   },
   "outputs": [],
   "source": []
  }
 ],
 "metadata": {
  "kernelspec": {
   "display_name": "Python 3",
   "language": "python",
   "name": "python3"
  },
  "language_info": {
   "codemirror_mode": {
    "name": "ipython",
    "version": 3
   },
   "file_extension": ".py",
   "mimetype": "text/x-python",
   "name": "python",
   "nbconvert_exporter": "python",
   "pygments_lexer": "ipython3",
   "version": "3.5.1"
  }
 },
 "nbformat": 4,
 "nbformat_minor": 0
}
