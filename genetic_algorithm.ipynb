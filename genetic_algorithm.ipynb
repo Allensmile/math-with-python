{
 "cells": [
  {
   "cell_type": "markdown",
   "metadata": {},
   "source": [
    "# Genetic Algorithm\n",
    "\n",
    "The genetic algorithm emulates Evolution by \"breeding\" solutions from previous solutions and applying mutation. The likelihood that a solution \"survives\" is based on its \"fitness\" value (as defined by some \"fitness function\").\n",
    "\n",
    "### Problem to solve\n",
    "\n",
    "Let's try using it to solve a simple equation:\n",
    "\n",
    "* x − y = −1\n",
    "* 3x + y = 9\n",
    "\n",
    "**(The real solution is x=2, y=3)**\n",
    "\n",
    "## Generic Genetic Algorithm\n",
    "\n",
    "First, let's write a basic genetic algorithm.\n",
    "\n",
    "Each \"individual\" will be a list in this form: [fitness, val1, val2, ...]"
   ]
  },
  {
   "cell_type": "code",
   "execution_count": 68,
   "metadata": {
    "collapsed": false
   },
   "outputs": [],
   "source": [
    "import random\n",
    "\n",
    "def generate_couples(population):\n",
    "    couples = []\n",
    "    for i in range(0, len(population)-1, 2):\n",
    "        c = (population[i], population[i+1])\n",
    "        couples.append(c)\n",
    "    return couples\n",
    "\n",
    "def genetic_algorithm(fit_func, cross_func, mutate_func, init_pop, max_iter=1000,\n",
    "                      max_pop=100, quit_at_err=0.01, mut_prob=0.1, mut_mu=0, mut_sigma=1):\n",
    "    population = init_pop\n",
    "    num_solutions_considered = 0\n",
    "    top_dog = init_pop[0]\n",
    "    \n",
    "    for i in range(max_iter):        \n",
    "        # Calculate fitness function for each individual\n",
    "        for individual in population:\n",
    "            fitness = individual[0]\n",
    "            if fitness < 0:  # Meaning it has not been calculated, since fitness is always positive or 0\n",
    "                fitness = fit_func(individual)\n",
    "                individual[0] = fitness\n",
    "\n",
    "        # Sort population by fitness\n",
    "        population.sort()\n",
    "        top_dog = population[0]\n",
    "        num_solutions_considered += len(population)\n",
    "        if top_dog[0] < quit_at_err:\n",
    "            print('Generations: {}, Solutions considered: {}'.format(i, num_solutions_considered))\n",
    "            return top_dog\n",
    "        \n",
    "        # Make couples\n",
    "        couples = generate_couples(population)\n",
    "        \n",
    "        # Mate\n",
    "        babies = [mutate(have_sex(couple[0], couple[1]), mut_prob, mut_mu, mut_sigma) for couple in couples]\n",
    "        population += babies\n",
    "        \n",
    "        # Sort and cull\n",
    "        population.sort()\n",
    "        population = population[:max_pop]\n",
    "        \n",
    "        #print('Iteration {}, Population: {}'.format(i, len(population)))\n",
    "\n",
    "    print('Generations: {}, Solutions considered: {}'.format(i, num_solutions_considered))\n",
    "    return top_dog\n"
   ]
  },
  {
   "cell_type": "markdown",
   "metadata": {},
   "source": [
    "## Write problem-specific functions"
   ]
  },
  {
   "cell_type": "code",
   "execution_count": 51,
   "metadata": {
    "collapsed": false
   },
   "outputs": [
    {
     "name": "stdout",
     "output_type": "stream",
     "text": [
      "Iterations: 39, # solutions considered: 3183\n"
     ]
    },
    {
     "data": {
      "text/plain": [
       "[0.0003454095730006291, 1.995886744141802, 3.01436163580238]"
      ]
     },
     "execution_count": 51,
     "metadata": {},
     "output_type": "execute_result"
    }
   ],
   "source": [
    "def fitness_function(individual):\n",
    "    fitness, x, y = individual\n",
    "    # We square the error so it's always positive\n",
    "    eq1_error = ((x - y) - (-1))**2\n",
    "    eq2_error = ((3*x + y) - 9)**2\n",
    "    return eq1_error + eq2_error\n",
    "\n",
    "def have_sex(a, b):\n",
    "    x = a[1]\n",
    "    y = b[2]\n",
    "    return [-1, x, y]\n",
    "\n",
    "def mutate(a, mutation_probability, mu, sigma):\n",
    "    mutant = [-1]\n",
    "    for var in a[1:]:\n",
    "        if random.random() <= mutation_probability:\n",
    "            new_var = var + random.gauss(mu, sigma)\n",
    "            mutant.append(new_var)\n",
    "        else:\n",
    "            mutant.append(var)\n",
    "    return mutant\n",
    "\n",
    "initial_population = [[-1, 0, 0], [-1, 10, 10]]     \n",
    "most_fit_solution = genetic_algorithm(fitness_function, have_sex, mutate, initial_population)\n",
    "most_fit_solution"
   ]
  },
  {
   "cell_type": "markdown",
   "metadata": {},
   "source": [
    "**Wow, so that's a pretty close solution in not too many generations (or solutions considered).**\n",
    "\n",
    "Now, let's compare it these 2 types of random searches:\n",
    "\n",
    "* Random walk\n",
    "* Uniform random search (in a constrained window)\n",
    "\n",
    "## Comparison with random walk solution"
   ]
  },
  {
   "cell_type": "code",
   "execution_count": 65,
   "metadata": {
    "collapsed": false
   },
   "outputs": [
    {
     "name": "stdout",
     "output_type": "stream",
     "text": [
      "Iteration: 0, Error: 58.197997727493785\n",
      "Iteration: 10000, Error: 44847.096572963936\n",
      "Iteration: 20000, Error: 26046.67741968994\n",
      "Iteration: 30000, Error: 188915.547005843\n",
      "Iteration: 40000, Error: 179066.1641331165\n",
      "Iteration: 50000, Error: 98354.59650722975\n",
      "Iteration: 60000, Error: 8099.110689885708\n",
      "Iteration: 70000, Error: 22889.705969310067\n",
      "Iteration: 80000, Error: 78947.95786648008\n",
      "Iteration: 90000, Error: 81609.08510716847\n",
      "Iteration: 100000, Error: 88042.48735877528\n",
      "Iteration: 110000, Error: 127779.6609447398\n",
      "Iteration: 120000, Error: 132049.4104383309\n",
      "Iteration: 130000, Error: 30637.002742822388\n",
      "Iteration: 140000, Error: 3029.9929598023473\n",
      "Iteration: 150000, Error: 7267.082706040252\n",
      "Iteration: 160000, Error: 12265.728575374562\n",
      "Iteration: 170000, Error: 51693.022768068826\n",
      "Iteration: 180000, Error: 54654.50564500899\n",
      "Iteration: 190000, Error: 214919.2574790537\n",
      "Iteration: 200000, Error: 233639.1235252252\n",
      "Iteration: 210000, Error: 487713.4435635344\n",
      "Iteration: 220000, Error: 308793.3769138881\n",
      "Iteration: 230000, Error: 191308.4797177279\n",
      "Iteration: 240000, Error: 170588.67097886262\n",
      "Iteration: 250000, Error: 216560.60255446262\n",
      "Iteration: 260000, Error: 267419.4993022812\n",
      "Iteration: 270000, Error: 196970.79306162673\n",
      "Iteration: 280000, Error: 137246.13771499082\n",
      "Iteration: 290000, Error: 234730.14229765147\n",
      "Iteration: 300000, Error: 316515.73946372623\n",
      "Iteration: 310000, Error: 96594.69180194367\n",
      "Iteration: 320000, Error: 130340.22848921012\n",
      "Iteration: 330000, Error: 238135.03138638474\n",
      "Iteration: 340000, Error: 178144.2447365376\n",
      "Iteration: 350000, Error: 91122.51122254215\n",
      "Iteration: 360000, Error: 129037.17506907361\n",
      "Iteration: 370000, Error: 94361.99443001603\n",
      "Iteration: 380000, Error: 71590.15927380601\n",
      "Iteration: 390000, Error: 113332.32090784302\n",
      "Iteration: 400000, Error: 82939.92711723235\n",
      "Iteration: 410000, Error: 102994.44479207975\n",
      "Iteration: 420000, Error: 167350.32331303938\n",
      "Iteration: 430000, Error: 266967.33455625275\n",
      "Iteration: 440000, Error: 322675.2160211878\n",
      "Iteration: 450000, Error: 265426.0888841365\n",
      "Iteration: 460000, Error: 95414.11415708082\n",
      "Iteration: 470000, Error: 110365.3236887952\n",
      "Iteration: 480000, Error: 214668.19020671965\n",
      "Iteration: 490000, Error: 395312.02751460485\n",
      "Iteration: 500000, Error: 661233.0135322829\n",
      "Iteration: 510000, Error: 727568.1860427626\n",
      "Iteration: 520000, Error: 543812.1712617927\n",
      "Iteration: 530000, Error: 619007.9935390004\n",
      "Iteration: 540000, Error: 597298.2276811234\n",
      "Iteration: 550000, Error: 428322.09524126496\n",
      "Iteration: 560000, Error: 609866.003075995\n",
      "Iteration: 570000, Error: 745286.954889121\n",
      "Iteration: 580000, Error: 852618.3208857924\n",
      "Iteration: 590000, Error: 605701.2808994589\n",
      "Iteration: 600000, Error: 751782.2243780773\n",
      "Iteration: 610000, Error: 1285479.4597460038\n",
      "Iteration: 620000, Error: 989334.980567904\n",
      "Iteration: 630000, Error: 1337629.770909281\n",
      "Iteration: 640000, Error: 1331822.0997493195\n",
      "Iteration: 650000, Error: 1182752.318036363\n",
      "Iteration: 660000, Error: 1643215.6954800738\n",
      "Iteration: 670000, Error: 1564810.9477126657\n",
      "Iteration: 680000, Error: 1629185.869107097\n",
      "Iteration: 690000, Error: 2117395.143278152\n",
      "Iteration: 700000, Error: 1648325.8893040004\n",
      "Iteration: 710000, Error: 1782785.121202516\n",
      "Iteration: 720000, Error: 1911100.8238497002\n",
      "Iteration: 730000, Error: 1768831.9622492203\n",
      "Iteration: 740000, Error: 1378838.7785962422\n",
      "Iteration: 750000, Error: 1625563.5905535538\n",
      "Iteration: 760000, Error: 1879327.6407330749\n",
      "Iteration: 770000, Error: 1691495.5339371949\n",
      "Iteration: 780000, Error: 1763827.414770319\n",
      "Iteration: 790000, Error: 2626745.5558397365\n",
      "Iteration: 800000, Error: 2390306.5618254687\n",
      "Iteration: 810000, Error: 2264505.8102024305\n",
      "Iteration: 820000, Error: 2431449.0096305464\n",
      "Iteration: 830000, Error: 1461922.5381285502\n",
      "Iteration: 840000, Error: 1815617.8344376218\n",
      "Iteration: 850000, Error: 2624923.3861788064\n",
      "Iteration: 860000, Error: 2696485.3145767944\n",
      "Iteration: 870000, Error: 2386429.2533477843\n",
      "Iteration: 880000, Error: 2416684.968660689\n",
      "Iteration: 890000, Error: 1814027.4063623594\n",
      "Iteration: 900000, Error: 1828885.0829097293\n",
      "Iteration: 910000, Error: 1433186.612471411\n",
      "Iteration: 920000, Error: 1316005.8469770257\n",
      "Iteration: 930000, Error: 1152410.0941889544\n",
      "Iteration: 940000, Error: 863993.5984905271\n",
      "Iteration: 950000, Error: 844028.4266753952\n",
      "Iteration: 960000, Error: 946837.0578228715\n",
      "Iteration: 970000, Error: 955333.4077869634\n",
      "Iteration: 980000, Error: 1078488.3699869053\n",
      "Iteration: 990000, Error: 939357.1692977182\n",
      "Iteration: 1000000, Error: 949823.6069154186\n"
     ]
    },
    {
     "data": {
      "text/plain": [
       "[-215.50760466522127, 754.9920021071864]"
      ]
     },
     "execution_count": 65,
     "metadata": {},
     "output_type": "execute_result"
    }
   ],
   "source": [
    "def random_walk_next_solution(prev_solution, mu, sigma):\n",
    "    return [prev_solution[0] + random.gauss(mu, sigma), prev_solution[1] + random.gauss(mu, sigma)]\n",
    "\n",
    "def error_function(individual):\n",
    "    x, y = individual\n",
    "    # We square the error so it's always positive\n",
    "    eq1_error = ((x - y) - (-1))**2\n",
    "    eq2_error = ((3*x + y) - 9)**2\n",
    "    return eq1_error + eq2_error\n",
    "\n",
    "def do_random_walk_search(mu, sigma, init_guess, max_iter=100*10000+1, quit_at_err=0.01):\n",
    "    current_solution = init_guess\n",
    "    \n",
    "    for i in range(max_iter):\n",
    "        current_solution = random_walk_next_solution(current_solution, 0, .5)\n",
    "        current_solution_err = error_function(current_solution)\n",
    "        if current_solution_err < quit_at_err:\n",
    "            print('Solutions considered: {}, Error: {}'.format(i, current_solution_err))\n",
    "            break\n",
    "        if i % 10000 == 0:\n",
    "            print('Iteration: {}, Error: {}'.format(i, current_solution_err))\n",
    "            \n",
    "    return current_solution\n",
    "\n",
    "do_random_walk_search(0, 0.5, [0, 0])"
   ]
  },
  {
   "cell_type": "markdown",
   "metadata": {
    "collapsed": true
   },
   "source": [
    "That is a pretty bad solution, and a ton of error.\n",
    "\n",
    "## Comparison with random (non-walk) solution"
   ]
  },
  {
   "cell_type": "code",
   "execution_count": 66,
   "metadata": {
    "collapsed": false
   },
   "outputs": [
    {
     "name": "stdout",
     "output_type": "stream",
     "text": [
      "Iteration: 0, Error: 308.3127928505571\n",
      "Iteration: 10000, Error: 4727.309365030706\n",
      "Iteration: 20000, Error: 2702.1996692573516\n",
      "Iteration: 30000, Error: 295.37602816058853\n",
      "Iteration: 40000, Error: 2379.093086548179\n",
      "Iteration: 50000, Error: 612.9270618824643\n",
      "Iteration: 60000, Error: 5197.901755236507\n",
      "Iteration: 70000, Error: 3201.8070554313686\n",
      "Iteration: 80000, Error: 265.6679530549633\n",
      "Iteration: 90000, Error: 2466.7681125102044\n",
      "Iteration: 100000, Error: 602.9843901795197\n",
      "Iteration: 110000, Error: 50.16423143387052\n",
      "Iteration: 120000, Error: 450.2998350146081\n",
      "Iteration: 130000, Error: 4908.17917978217\n",
      "Iteration: 140000, Error: 153.68311282520978\n",
      "Iteration: 150000, Error: 3180.767818636309\n",
      "Iterations: 151234, Error: 0.006872960595740857\n"
     ]
    },
    {
     "data": {
      "text/plain": [
       "[1.970702724699727, 3.0275199352116857]"
      ]
     },
     "execution_count": 66,
     "metadata": {},
     "output_type": "execute_result"
    }
   ],
   "source": [
    "def random_next_solution(x_min, x_max, y_min, y_max):\n",
    "    return [random.uniform(x_min, x_max), random.uniform(y_min, y_max)]\n",
    "\n",
    "def do_random_search(x_min, x_max, y_min, y_max, max_iter=100*10000+1, quit_at_err=0.01):\n",
    "    for i in range(max_iter):\n",
    "        # Note that with this solution, we are artificially limiting the search window\n",
    "        current_solution = random_next_solution(x_min, x_max, y_min, y_max)\n",
    "        current_solution_err = error_function(current_solution)\n",
    "        if current_solution_err < quit_at_err:\n",
    "            print('Iterations: {}, Error: {}'.format(i, current_solution_err))\n",
    "            break\n",
    "        if i % 10000 == 0:\n",
    "            print('Iteration: {}, Error: {}'.format(i, current_solution_err))\n",
    "\n",
    "    return current_solution\n",
    "\n",
    "do_random_search(-20, 20, -20, 20)"
   ]
  },
  {
   "cell_type": "markdown",
   "metadata": {},
   "source": [
    "So looks like the random uniform search is descent (though nowhere near the efficiency as the Genetic Algorithm). BUT, we had to limit the search window for x and y to (-20, 20). The Genetic Algorithm is is really nice because no such limitation of the window is necessary. With some problems, we don't have such a good idea of where the solution (or a good-enough solution) lies.\n",
    "\n",
    "Now, look how poorly the random search algorithm behaves when we expand the window to (-100, 100):"
   ]
  },
  {
   "cell_type": "code",
   "execution_count": 67,
   "metadata": {
    "collapsed": false
   },
   "outputs": [
    {
     "name": "stdout",
     "output_type": "stream",
     "text": [
      "Iteration: 0, Error: 87498.269900416\n",
      "Iteration: 10000, Error: 19729.641085476345\n",
      "Iteration: 20000, Error: 12088.16015937448\n",
      "Iteration: 30000, Error: 70371.69304549509\n",
      "Iteration: 40000, Error: 101228.17845615717\n",
      "Iteration: 50000, Error: 3752.077746472049\n",
      "Iteration: 60000, Error: 5678.870652708074\n",
      "Iteration: 70000, Error: 13796.72050359031\n",
      "Iteration: 80000, Error: 75143.37747065257\n",
      "Iteration: 90000, Error: 45542.307427910455\n",
      "Iteration: 100000, Error: 68761.573982296\n",
      "Iteration: 110000, Error: 103085.07660772622\n",
      "Iteration: 120000, Error: 3974.410160526244\n",
      "Iteration: 130000, Error: 45856.8843360887\n",
      "Iteration: 140000, Error: 82085.17905786278\n",
      "Iteration: 150000, Error: 55998.276219948355\n",
      "Iteration: 160000, Error: 13533.890847679402\n",
      "Iteration: 170000, Error: 7714.684011843349\n",
      "Iteration: 180000, Error: 86523.04016051191\n",
      "Iteration: 190000, Error: 16543.62379364362\n",
      "Iteration: 200000, Error: 16387.267717172082\n",
      "Iteration: 210000, Error: 35095.89645941437\n",
      "Iteration: 220000, Error: 21500.344783772187\n",
      "Iteration: 230000, Error: 8602.127950229136\n",
      "Iteration: 240000, Error: 23146.291821665374\n",
      "Iteration: 250000, Error: 5573.538548409406\n",
      "Iteration: 260000, Error: 15582.669051756802\n",
      "Iteration: 270000, Error: 67460.89705168757\n",
      "Iteration: 280000, Error: 22099.987714948118\n",
      "Iteration: 290000, Error: 103875.00610584665\n",
      "Iteration: 300000, Error: 34720.36015567349\n",
      "Iteration: 310000, Error: 83594.23197451505\n",
      "Iteration: 320000, Error: 12914.149660419593\n",
      "Iteration: 330000, Error: 70952.46047816904\n",
      "Iteration: 340000, Error: 59887.68169660277\n",
      "Iteration: 350000, Error: 7520.050193027867\n",
      "Iteration: 360000, Error: 44995.68257573622\n",
      "Iteration: 370000, Error: 81291.94643393895\n",
      "Iteration: 380000, Error: 41804.68036266295\n",
      "Iteration: 390000, Error: 75533.79144602736\n",
      "Iteration: 400000, Error: 40166.66863847164\n",
      "Iteration: 410000, Error: 22777.252619958163\n",
      "Iteration: 420000, Error: 33197.82810250713\n",
      "Iteration: 430000, Error: 38228.650679926766\n",
      "Iteration: 440000, Error: 23799.483498835998\n",
      "Iteration: 450000, Error: 23362.13164486192\n",
      "Iteration: 460000, Error: 55637.66175237792\n",
      "Iteration: 470000, Error: 17834.702894950995\n",
      "Iteration: 480000, Error: 8658.514188047018\n",
      "Iteration: 490000, Error: 84567.11845740197\n",
      "Iteration: 500000, Error: 94682.81767493288\n",
      "Iteration: 510000, Error: 57374.14215140941\n",
      "Iteration: 520000, Error: 133270.27557128755\n",
      "Iteration: 530000, Error: 72186.95827586284\n",
      "Iteration: 540000, Error: 3433.15872892808\n",
      "Iteration: 550000, Error: 33586.914250072565\n",
      "Iteration: 560000, Error: 68323.41411031733\n",
      "Iteration: 570000, Error: 104327.49512416092\n",
      "Iteration: 580000, Error: 58581.06509649316\n",
      "Iteration: 590000, Error: 2425.8950816699307\n",
      "Iteration: 600000, Error: 74158.4290486698\n",
      "Iteration: 610000, Error: 59596.564761273505\n",
      "Iteration: 620000, Error: 6032.790556750053\n",
      "Iteration: 630000, Error: 19382.28625675643\n",
      "Iteration: 640000, Error: 52113.27572042264\n",
      "Iteration: 650000, Error: 16964.387182687533\n",
      "Iteration: 660000, Error: 2566.9237548328633\n",
      "Iteration: 670000, Error: 30745.90780684977\n",
      "Iteration: 680000, Error: 9741.907422463612\n",
      "Iteration: 690000, Error: 42375.54859504519\n",
      "Iteration: 700000, Error: 35724.80283533997\n",
      "Iteration: 710000, Error: 25734.247960276138\n",
      "Iteration: 720000, Error: 8121.674922935857\n",
      "Iteration: 730000, Error: 30344.43805352114\n",
      "Iteration: 740000, Error: 48914.67262714829\n",
      "Iteration: 750000, Error: 85613.73404147822\n",
      "Iteration: 760000, Error: 17859.395898185354\n",
      "Iteration: 770000, Error: 26279.316160791226\n",
      "Iteration: 780000, Error: 2003.1869252535955\n",
      "Iteration: 790000, Error: 70538.19320335564\n",
      "Iteration: 800000, Error: 49188.62840047125\n",
      "Iteration: 810000, Error: 20034.307571268408\n",
      "Iteration: 820000, Error: 51024.020521718514\n",
      "Iteration: 830000, Error: 33119.55340480031\n",
      "Iteration: 840000, Error: 6755.657801786951\n",
      "Iteration: 850000, Error: 22262.317303391013\n",
      "Iteration: 860000, Error: 16174.411806687322\n",
      "Iteration: 870000, Error: 26900.650286404183\n",
      "Iteration: 880000, Error: 63639.462020066705\n",
      "Iteration: 890000, Error: 1751.4986031186374\n",
      "Iteration: 900000, Error: 130544.81195988822\n",
      "Iteration: 910000, Error: 35406.58966007849\n",
      "Iteration: 920000, Error: 9096.962857492243\n",
      "Iteration: 930000, Error: 186.02024407888737\n",
      "Iteration: 940000, Error: 16507.791284834748\n",
      "Iteration: 950000, Error: 15890.978217479318\n",
      "Iteration: 960000, Error: 21070.9556745879\n",
      "Iteration: 970000, Error: 84199.18894773135\n",
      "Iteration: 980000, Error: 11548.769004157894\n",
      "Iteration: 990000, Error: 34477.79829390748\n",
      "Iteration: 1000000, Error: 89978.66995960606\n"
     ]
    },
    {
     "data": {
      "text/plain": [
       "[-85.14712014026289, -30.728240396272312]"
      ]
     },
     "execution_count": 67,
     "metadata": {},
     "output_type": "execute_result"
    }
   ],
   "source": [
    "do_random_search(-100, 100, -100, 100)"
   ]
  },
  {
   "cell_type": "markdown",
   "metadata": {},
   "source": [
    "So when we expand the search space, the results are much worse for the uniform random search."
   ]
  }
 ],
 "metadata": {
  "kernelspec": {
   "display_name": "Python 3",
   "language": "python",
   "name": "python3"
  },
  "language_info": {
   "codemirror_mode": {
    "name": "ipython",
    "version": 3
   },
   "file_extension": ".py",
   "mimetype": "text/x-python",
   "name": "python",
   "nbconvert_exporter": "python",
   "pygments_lexer": "ipython3",
   "version": "3.5.1"
  }
 },
 "nbformat": 4,
 "nbformat_minor": 0
}
