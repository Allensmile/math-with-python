{
 "metadata": {
  "name": ""
 },
 "nbformat": 3,
 "nbformat_minor": 0,
 "worksheets": [
  {
   "cells": [
    {
     "cell_type": "markdown",
     "metadata": {},
     "source": [
      "# Solving Sudoku with Linear Algebra\n",
      "\n",
      "### Pretty-print matrix function"
     ]
    },
    {
     "cell_type": "code",
     "collapsed": false,
     "input": [
      "from IPython.display import HTML\n",
      "\n",
      "def print_matrix(mat):\n",
      "    t = [\"<table>\"]\n",
      "    for row in mat:\n",
      "        t.append(\"<tr>\")\n",
      "        for col in row:\n",
      "            t.append(\"<td>\" + str(col) + \"</td>\")\n",
      "        t.append(\"</tr>\")\n",
      "    t.append(\"</table>\")\n",
      "    return HTML(''.join(t))\n",
      "\n",
      "print_matrix([[1,2],[3,4]])"
     ],
     "language": "python",
     "metadata": {},
     "outputs": [
      {
       "html": [
        "<table><tr><td>1</td><td>2</td></tr><tr><td>3</td><td>4</td></tr></table>"
       ],
       "metadata": {},
       "output_type": "pyout",
       "prompt_number": 189,
       "text": [
        "<IPython.core.display.HTML at 0x846a438>"
       ]
      }
     ],
     "prompt_number": 189
    },
    {
     "cell_type": "markdown",
     "metadata": {},
     "source": [
      "## 4x4 Sudoku\n",
      "\n",
      "<table class=\"invisible-table\"><tr><td>\n",
      "\n",
      "Puzzle\n",
      "<table class=\"padded-table\">\n",
      "<tr><td><b>1</b></td><td>&nbsp;</td><td>&nbsp;</td><td>&nbsp;</td></tr>\n",
      "<tr><td> </td><td>&nbsp;</td><td><b>4</b></td><td>&nbsp;</td></tr>\n",
      "<tr><td> </td><td><b>3</b></td><td>&nbsp;</td><td>&nbsp;</td></tr>\n",
      "<tr><td>&nbsp;</td><td>&nbsp;</td><td><b>2</b></td><td>&nbsp;</td></tr>\n",
      "</table>\n",
      "\n",
      "</td><td>\n",
      "\n",
      "Solution\n",
      "<table class=\"padded-table\">\n",
      "<tr><td>1</td><td>4</td><td>3</td><td>2</td></tr>\n",
      "<tr><td>3</td><td>2</td><td>4</td><td>1</td></tr>\n",
      "<tr><td>2</td><td>3</td><td>1</td><td>4</td></tr>\n",
      "<tr><td>4</td><td>1</td><td>2</td><td>3</td></tr>\n",
      "</table>\n",
      "\n",
      "</td></tr></table>\n",
      "\n",
      "<style>\n",
      ".padded-table td { padding: 15px; }\n",
      ".invisible-table { border: 0px; }\n",
      "</style>\n"
     ]
    },
    {
     "cell_type": "code",
     "collapsed": false,
     "input": [
      "m1 = [['a01', 'a02', 'a03', 'a04'],\n",
      "      ['a05', 'a06', 'a07', 'a08'],\n",
      "      ['a09', 'a10', 'a11', 'a12'],\n",
      "      ['a13', 'a14', 'a15', 'a16']]\n",
      "\n",
      "print_matrix(m1)"
     ],
     "language": "python",
     "metadata": {},
     "outputs": [
      {
       "html": [
        "<table><tr><td>a01</td><td>a02</td><td>a03</td><td>a04</td></tr><tr><td>a05</td><td>a06</td><td>a07</td><td>a08</td></tr><tr><td>a09</td><td>a10</td><td>a11</td><td>a12</td></tr><tr><td>a13</td><td>a14</td><td>a15</td><td>a16</td></tr></table>"
       ],
       "metadata": {},
       "output_type": "pyout",
       "prompt_number": 190,
       "text": [
        "<IPython.core.display.HTML at 0x8a4ecc0>"
       ]
      }
     ],
     "prompt_number": 190
    },
    {
     "cell_type": "markdown",
     "metadata": {},
     "source": [
      "### System of Equations to describe puzzle\n",
      "\n",
      "#### Sudoku-constant equations\n",
      "\n",
      "These first 12 equations are the same for all 4x4 sudoku puzzles - they are the rules of the game:\n",
      "\n",
      "By Rows:\n",
      "\n",
      "* a01 + a02 + a03 + a04 = 10\n",
      "* a05 + a06 + a07 + a08 = 10\n",
      "* a09 + a10 + a11 + a12 = 10\n",
      "* a13 + a14 + a15 + a16 = 10\n",
      "\n",
      "By Columns:\n",
      "\n",
      "* a01 + a05 + a09 + a13 = 10\n",
      "* a02 + a06 + a10 + a14 = 10\n",
      "* a03 + a07 + a11 + a15 = 10\n",
      "* a04 + a08 + a12 + a16 = 10\n",
      "\n",
      "By Quandrants:\n",
      "\n",
      "* a01 + a02 + a05 + a06 = 10\n",
      "* a03 + a04 + a07 + a08 = 10\n",
      "* a09 + a10 + a13 + a14 = 10\n",
      "* a11 + a12 + a15 + a16 = 10\n",
      "\n",
      "\n",
      "#### Puzzle-specific equations\n",
      "\n",
      "These last 4 equations are what we are given for this particular puzzle:\n",
      "\n",
      "* a01 = 1\n",
      "* a07 = 4\n",
      "* a10 = 3\n",
      "* a15 = 2\n",
      "\n"
     ]
    },
    {
     "cell_type": "code",
     "collapsed": false,
     "input": [
      "a =   [[1, 1, 1, 1, 0, 0, 0, 0, 0, 0, 0, 0, 0, 0, 0, 0],\n",
      "       [0, 0, 0, 0, 1, 1, 1, 1, 0, 0, 0, 0, 0, 0, 0, 0],\n",
      "       [0, 0, 0, 0, 0, 0, 0, 0, 1, 1, 1, 1, 0, 0, 0, 0],\n",
      "       [0, 0, 0, 0, 0, 0, 0, 0, 0, 0, 0, 0, 1, 1, 1, 1],\n",
      "       \n",
      "       [1, 0, 0, 0, 1, 0, 0, 0, 1, 0, 0, 0, 1, 0, 0, 0],\n",
      "       [0, 1, 0, 0, 0, 1, 0, 0, 0, 1, 0, 0, 0, 1, 0, 0],\n",
      "       [0, 0, 1, 0, 0, 0, 1, 0, 0, 0, 1, 0, 0, 0, 1, 0],\n",
      "       [0, 0, 0, 1, 0, 0, 0, 1, 0, 0, 0, 1, 0, 0, 0, 1],\n",
      "       \n",
      "       [1, 1, 0, 0, 1, 1, 0, 0, 0, 0, 0, 0, 0, 0, 0, 0],\n",
      "       [0, 0, 1, 1, 0, 0, 1, 1, 0, 0, 0, 0, 0, 0, 0, 0],\n",
      "       [0, 0, 0, 0, 0, 0, 0, 0, 1, 1, 0, 0, 1, 1, 0, 0],\n",
      "       [0, 0, 0, 0, 0, 0, 0, 0, 0, 0, 1, 1, 0, 0, 1, 1],\n",
      "       \n",
      "       [1, 0, 0, 0, 0, 0, 0, 0, 0, 0, 0, 0, 0, 0, 0, 0],\n",
      "       [0, 0, 0, 0, 0, 0, 1, 0, 0, 0, 0, 0, 0, 0, 0, 0],\n",
      "       [0, 0, 0, 0, 0, 0, 0, 0, 0, 1, 0, 0, 0, 0, 0, 0],\n",
      "       [0, 0, 0, 0, 0, 0, 0, 0, 0, 0, 0, 0, 0, 0, 1, 0]]\n",
      "\n",
      "b = [10, 10, 10, 10,  10, 10, 10, 10,  10, 10, 10, 10,  1, 4, 3, 2]"
     ],
     "language": "python",
     "metadata": {},
     "outputs": [],
     "prompt_number": 191
    },
    {
     "cell_type": "code",
     "collapsed": false,
     "input": [
      "x = np.linalg.lstsq(a,b)\n",
      "np.reshape(x[0], (4,-1))"
     ],
     "language": "python",
     "metadata": {},
     "outputs": [
      {
       "metadata": {},
       "output_type": "pyout",
       "prompt_number": 192,
       "text": [
        "array([[ 1.        ,  3.85714286,  2.14285714,  3.        ],\n",
        "       [ 3.42857143,  1.71428571,  4.        ,  0.85714286],\n",
        "       [ 2.42857143,  3.        ,  1.85714286,  2.71428571],\n",
        "       [ 3.14285714,  1.42857143,  2.        ,  3.42857143]])"
       ]
      }
     ],
     "prompt_number": 192
    },
    {
     "cell_type": "code",
     "collapsed": false,
     "input": [
      "solution = np.reshape([int(round(i)) for i in x[0]], (4, -1))\n",
      "solution"
     ],
     "language": "python",
     "metadata": {},
     "outputs": [
      {
       "metadata": {},
       "output_type": "pyout",
       "prompt_number": 193,
       "text": [
        "array([[1, 4, 2, 3],\n",
        "       [3, 2, 4, 1],\n",
        "       [2, 3, 2, 3],\n",
        "       [3, 1, 2, 3]])"
       ]
      }
     ],
     "prompt_number": 193
    },
    {
     "cell_type": "markdown",
     "metadata": {},
     "source": [
      "# Integer Linear Regression"
     ]
    },
    {
     "cell_type": "code",
     "collapsed": false,
     "input": [
      "# 3x+4y=7 and 5x+6y=8\n",
      "a1=[[3,4],[5,6]]\n",
      "b1=[7,8]\n",
      "((x,y),_,_,_) = np.linalg.lstsq(a1,b1)\n",
      "(x,y)"
     ],
     "language": "python",
     "metadata": {},
     "outputs": [
      {
       "metadata": {},
       "output_type": "pyout",
       "prompt_number": 194,
       "text": [
        "(-4.9999999999999769, 5.4999999999999813)"
       ]
      }
     ],
     "prompt_number": 194
    },
    {
     "cell_type": "code",
     "collapsed": false,
     "input": [
      "# TODO: Add precesion early break\n",
      "def linear_regression(a, b, precision=0.01, learning_rate=0.1, max_iters = 200):\n",
      "    m = len(b)\n",
      "    omega = np.ones(m)\n",
      "    \n",
      "    for iter in xrange(max_iters):\n",
      "        for i in xrange(m):\n",
      "            omega[i] = omega[i] - learning_rate * (1.0/m) * sum((np.dot(a, omega) - b) * a[i])\n",
      "        \n",
      "    return omega"
     ],
     "language": "python",
     "metadata": {},
     "outputs": [],
     "prompt_number": 195
    },
    {
     "cell_type": "code",
     "collapsed": false,
     "input": [
      "linear_regression(a1,b1)"
     ],
     "language": "python",
     "metadata": {},
     "outputs": [
      {
       "metadata": {},
       "output_type": "pyout",
       "prompt_number": 196,
       "text": [
        "array([-5. ,  5.5])"
       ]
      }
     ],
     "prompt_number": 196
    },
    {
     "cell_type": "code",
     "collapsed": false,
     "input": [
      "result = linear_regression(a,b)"
     ],
     "language": "python",
     "metadata": {},
     "outputs": [],
     "prompt_number": 197
    },
    {
     "cell_type": "code",
     "collapsed": false,
     "input": [
      "result"
     ],
     "language": "python",
     "metadata": {},
     "outputs": [
      {
       "metadata": {},
       "output_type": "pyout",
       "prompt_number": 198,
       "text": [
        "array([  4.71143849,   4.688242  ,   4.66519049,  -0.71713789,\n",
        "         1.9568043 ,  -6.86351593,   1.06255254,  17.08008666,\n",
        "        -1.34069241,  10.54590296,  -3.6327123 ,   7.43473406,\n",
        "        -0.87012213,   7.11479335,  -4.74101031,  -2.80275689])"
       ]
      }
     ],
     "prompt_number": 198
    },
    {
     "cell_type": "code",
     "collapsed": false,
     "input": [
      "def int_linear_regression(a, b, precision=0.01, learning_rate=0.1, max_iters = 100):\n",
      "    m = len(b)\n",
      "    omega = np.ones(m)\n",
      "    \n",
      "    for iter in xrange(max_iters):\n",
      "        for i in xrange(m):\n",
      "            omega[i] = omega[i] - learning_rate * (1.0/m) * sum((np.dot(a, omega) - b) * a[i])\n",
      "        \n",
      "    return omega"
     ],
     "language": "python",
     "metadata": {},
     "outputs": [],
     "prompt_number": 199
    },
    {
     "cell_type": "code",
     "collapsed": false,
     "input": [
      "int_linear_regression(a,b)"
     ],
     "language": "python",
     "metadata": {},
     "outputs": [
      {
       "metadata": {},
       "output_type": "pyout",
       "prompt_number": 200,
       "text": [
        "array([ 3.75092744,  3.73373415,  3.71664831,  0.63645013,  1.02805326,\n",
        "        0.57960855,  2.40385303,  7.73058428,  1.4186231 ,  5.88586716,\n",
        "        0.08611585,  4.13713557,  0.69261751,  2.41943494,  0.17188889,\n",
        "        0.33243498])"
       ]
      }
     ],
     "prompt_number": 200
    },
    {
     "cell_type": "code",
     "collapsed": false,
     "input": [],
     "language": "python",
     "metadata": {},
     "outputs": [],
     "prompt_number": 200
    }
   ],
   "metadata": {}
  }
 ]
}