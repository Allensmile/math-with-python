{
 "metadata": {
  "name": ""
 },
 "nbformat": 3,
 "nbformat_minor": 0,
 "worksheets": [
  {
   "cells": [
    {
     "cell_type": "markdown",
     "metadata": {},
     "source": [
      "# (Attempted) Solving Sudoku with Linear Algebra\n",
      "\n",
      "### Pretty-print matrix function"
     ]
    },
    {
     "cell_type": "code",
     "collapsed": false,
     "input": [
      "from IPython.display import HTML\n",
      "\n",
      "def print_matrix(mat):\n",
      "    t = [\"<table>\"]\n",
      "    for row in mat:\n",
      "        t.append(\"<tr>\")\n",
      "        for col in row:\n",
      "            t.append(\"<td>\" + str(col) + \"</td>\")\n",
      "        t.append(\"</tr>\")\n",
      "    t.append(\"</table>\")\n",
      "    return HTML(''.join(t))\n",
      "\n",
      "print_matrix([[1,2],[3,4]])"
     ],
     "language": "python",
     "metadata": {},
     "outputs": [
      {
       "html": [
        "<table><tr><td>1</td><td>2</td></tr><tr><td>3</td><td>4</td></tr></table>"
       ],
       "metadata": {},
       "output_type": "pyout",
       "prompt_number": 78,
       "text": [
        "<IPython.core.display.HTML at 0x9e3c98c>"
       ]
      }
     ],
     "prompt_number": 78
    },
    {
     "cell_type": "markdown",
     "metadata": {},
     "source": [
      "## 4x4 Sudoku\n",
      "\n",
      "<table class=\"invisible-table\"><tr><td>\n",
      "\n",
      "Puzzle\n",
      "<table class=\"padded-table\">\n",
      "<tr><td><b>1</b></td><td>&nbsp;</td><td>&nbsp;</td><td>&nbsp;</td></tr>\n",
      "<tr><td> </td><td>&nbsp;</td><td><b>4</b></td><td>&nbsp;</td></tr>\n",
      "<tr><td> </td><td><b>3</b></td><td>&nbsp;</td><td>&nbsp;</td></tr>\n",
      "<tr><td>&nbsp;</td><td>&nbsp;</td><td><b>2</b></td><td>&nbsp;</td></tr>\n",
      "</table>\n",
      "\n",
      "</td><td>\n",
      "\n",
      "Solution\n",
      "<table class=\"padded-table\">\n",
      "<tr><td>1</td><td>4</td><td>3</td><td>2</td></tr>\n",
      "<tr><td>3</td><td>2</td><td>4</td><td>1</td></tr>\n",
      "<tr><td>2</td><td>3</td><td>1</td><td>4</td></tr>\n",
      "<tr><td>4</td><td>1</td><td>2</td><td>3</td></tr>\n",
      "</table>\n",
      "\n",
      "</td></tr></table>\n",
      "\n",
      "<style>\n",
      ".padded-table td { padding: 15px; }\n",
      ".invisible-table { border: 0px; }\n",
      "</style>\n"
     ]
    },
    {
     "cell_type": "code",
     "collapsed": false,
     "input": [
      "m1 = [['a01', 'a02', 'a03', 'a04'],\n",
      "      ['a05', 'a06', 'a07', 'a08'],\n",
      "      ['a09', 'a10', 'a11', 'a12'],\n",
      "      ['a13', 'a14', 'a15', 'a16']]\n",
      "\n",
      "print_matrix(m1)"
     ],
     "language": "python",
     "metadata": {},
     "outputs": [
      {
       "html": [
        "<table><tr><td>a01</td><td>a02</td><td>a03</td><td>a04</td></tr><tr><td>a05</td><td>a06</td><td>a07</td><td>a08</td></tr><tr><td>a09</td><td>a10</td><td>a11</td><td>a12</td></tr><tr><td>a13</td><td>a14</td><td>a15</td><td>a16</td></tr></table>"
       ],
       "metadata": {},
       "output_type": "pyout",
       "prompt_number": 79,
       "text": [
        "<IPython.core.display.HTML at 0x9c5f98c>"
       ]
      }
     ],
     "prompt_number": 79
    },
    {
     "cell_type": "markdown",
     "metadata": {},
     "source": [
      "### System of Equations to describe puzzle\n",
      "\n",
      "#### Sudoku-constant equations\n",
      "\n",
      "These first 12 equations are the same for all 4x4 sudoku puzzles - they are the rules of the game:\n",
      "\n",
      "By Rows:\n",
      "\n",
      "* a01 + a02 + a03 + a04 = 10\n",
      "* a05 + a06 + a07 + a08 = 10\n",
      "* a09 + a10 + a11 + a12 = 10\n",
      "* a13 + a14 + a15 + a16 = 10\n",
      "\n",
      "By Columns:\n",
      "\n",
      "* a01 + a05 + a09 + a13 = 10\n",
      "* a02 + a06 + a10 + a14 = 10\n",
      "* a03 + a07 + a11 + a15 = 10\n",
      "* a04 + a08 + a12 + a16 = 10\n",
      "\n",
      "By Quandrants:\n",
      "\n",
      "* a01 + a02 + a05 + a06 = 10\n",
      "* a03 + a04 + a07 + a08 = 10\n",
      "* a09 + a10 + a13 + a14 = 10\n",
      "* a11 + a12 + a15 + a16 = 10\n",
      "\n",
      "\n",
      "#### Puzzle-specific equations\n",
      "\n",
      "These last 4 equations are what we are given for this particular puzzle:\n",
      "\n",
      "* a01 = 1\n",
      "* a07 = 4\n",
      "* a10 = 3\n",
      "* a15 = 2\n",
      "\n"
     ]
    },
    {
     "cell_type": "code",
     "collapsed": false,
     "input": [
      "a =   [[1, 1, 1, 1, 0, 0, 0, 0, 0, 0, 0, 0, 0, 0, 0, 0],\n",
      "       [0, 0, 0, 0, 1, 1, 1, 1, 0, 0, 0, 0, 0, 0, 0, 0],\n",
      "       [0, 0, 0, 0, 0, 0, 0, 0, 1, 1, 1, 1, 0, 0, 0, 0],\n",
      "       [0, 0, 0, 0, 0, 0, 0, 0, 0, 0, 0, 0, 1, 1, 1, 1],\n",
      "       \n",
      "       [1, 0, 0, 0, 1, 0, 0, 0, 1, 0, 0, 0, 1, 0, 0, 0],\n",
      "       [0, 1, 0, 0, 0, 1, 0, 0, 0, 1, 0, 0, 0, 1, 0, 0],\n",
      "       [0, 0, 1, 0, 0, 0, 1, 0, 0, 0, 1, 0, 0, 0, 1, 0],\n",
      "       [0, 0, 0, 1, 0, 0, 0, 1, 0, 0, 0, 1, 0, 0, 0, 1],\n",
      "       \n",
      "       [1, 1, 0, 0, 1, 1, 0, 0, 0, 0, 0, 0, 0, 0, 0, 0],\n",
      "       [0, 0, 1, 1, 0, 0, 1, 1, 0, 0, 0, 0, 0, 0, 0, 0],\n",
      "       [0, 0, 0, 0, 0, 0, 0, 0, 1, 1, 0, 0, 1, 1, 0, 0],\n",
      "       [0, 0, 0, 0, 0, 0, 0, 0, 0, 0, 1, 1, 0, 0, 1, 1],\n",
      "       \n",
      "       [1, 0, 0, 0, 0, 0, 0, 0, 0, 0, 0, 0, 0, 0, 0, 0],\n",
      "       [0, 0, 0, 0, 0, 0, 1, 0, 0, 0, 0, 0, 0, 0, 0, 0],\n",
      "       [0, 0, 0, 0, 0, 0, 0, 0, 0, 1, 0, 0, 0, 0, 0, 0],\n",
      "       [0, 0, 0, 0, 0, 0, 0, 0, 0, 0, 0, 0, 0, 0, 1, 0]]\n",
      "\n",
      "b = [10, 10, 10, 10,  10, 10, 10, 10,  10, 10, 10, 10,  1, 4, 3, 2]"
     ],
     "language": "python",
     "metadata": {},
     "outputs": [],
     "prompt_number": 80
    },
    {
     "cell_type": "code",
     "collapsed": false,
     "input": [
      "x = np.linalg.lstsq(a,b)\n",
      "np.reshape(x[0], (4,-1))"
     ],
     "language": "python",
     "metadata": {},
     "outputs": [
      {
       "metadata": {},
       "output_type": "pyout",
       "prompt_number": 81,
       "text": [
        "array([[ 1.        ,  4.03670844,  1.45282164,  3.51046992],\n",
        "       [ 3.71948346,  1.2438081 ,  4.        ,  1.03670844],\n",
        "       [ 2.09403633,  3.        ,  2.54717836,  2.35878531],\n",
        "       [ 3.18648021,  1.71948346,  2.        ,  3.09403633]])"
       ]
      }
     ],
     "prompt_number": 81
    },
    {
     "cell_type": "code",
     "collapsed": false,
     "input": [
      "solution = np.reshape([int(round(i)) for i in x[0]], (4, -1))\n",
      "solution"
     ],
     "language": "python",
     "metadata": {},
     "outputs": [
      {
       "metadata": {},
       "output_type": "pyout",
       "prompt_number": 82,
       "text": [
        "array([[1, 4, 1, 4],\n",
        "       [4, 1, 4, 1],\n",
        "       [2, 3, 3, 2],\n",
        "       [3, 2, 2, 3]])"
       ]
      }
     ],
     "prompt_number": 82
    },
    {
     "cell_type": "markdown",
     "metadata": {},
     "source": [
      "# Linear Regression Implementation\n",
      "\n",
      "I wanted to implement my own linear regression algorithm to better understand how it works."
     ]
    },
    {
     "cell_type": "code",
     "collapsed": false,
     "input": [
      "# TODO: Add precesion early break\n",
      "def linear_regression(a, b, precision=0.01, learning_rate=0.1, max_iters = 200):\n",
      "    m = len(b)\n",
      "    omega = np.ones(m)\n",
      "    \n",
      "    for iter in xrange(max_iters):\n",
      "        for i in xrange(m):\n",
      "            omega[i] = omega[i] - learning_rate * (1.0/m) * sum((np.dot(a, omega) - b) * a[i])\n",
      "        \n",
      "    return omega"
     ],
     "language": "python",
     "metadata": {},
     "outputs": [],
     "prompt_number": 83
    },
    {
     "cell_type": "markdown",
     "metadata": {},
     "source": [
      "### Test problem to solve"
     ]
    },
    {
     "cell_type": "code",
     "collapsed": false,
     "input": [
      "# 3x+4y=7 and 5x+6y=8\n",
      "a1=[[3,4],[5,6]]\n",
      "b1=[7,8]\n",
      "linear_regression(a1,b1)"
     ],
     "language": "python",
     "metadata": {},
     "outputs": [
      {
       "metadata": {},
       "output_type": "pyout",
       "prompt_number": 84,
       "text": [
        "array([-5. ,  5.5])"
       ]
      }
     ],
     "prompt_number": 84
    },
    {
     "cell_type": "markdown",
     "metadata": {},
     "source": [
      "### Compare with numpy implementation's solution"
     ]
    },
    {
     "cell_type": "code",
     "collapsed": false,
     "input": [
      "((x,y),_,_,_) = np.linalg.lstsq(a1,b1)\n",
      "(x,y)"
     ],
     "language": "python",
     "metadata": {},
     "outputs": [
      {
       "metadata": {},
       "output_type": "pyout",
       "prompt_number": 85,
       "text": [
        "(-5.0000000000000071, 5.5000000000000062)"
       ]
      }
     ],
     "prompt_number": 85
    },
    {
     "cell_type": "code",
     "collapsed": false,
     "input": [
      "result = linear_regression(a,b)\n",
      "result"
     ],
     "language": "python",
     "metadata": {},
     "outputs": [
      {
       "metadata": {},
       "output_type": "pyout",
       "prompt_number": 86,
       "text": [
        "array([  4.71143849,   4.688242  ,   4.66519049,  -0.71713789,\n",
        "         1.9568043 ,  -6.86351593,   1.06255254,  17.08008666,\n",
        "        -1.34069241,  10.54590296,  -3.6327123 ,   7.43473406,\n",
        "        -0.87012213,   7.11479335,  -4.74101031,  -2.80275689])"
       ]
      }
     ],
     "prompt_number": 86
    },
    {
     "cell_type": "markdown",
     "metadata": {},
     "source": [
      "# Trying on Normal (9x9) Sudoku Puzzle"
     ]
    },
    {
     "cell_type": "code",
     "collapsed": false,
     "input": [
      "s9x9_flat = np.array(['a'+str(i) for i in xrange(81)])\n",
      "s9x9 = np.reshape(s9x9_flat, (9, -1))\n",
      "\n",
      "print_matrix(s9x9)"
     ],
     "language": "python",
     "metadata": {},
     "outputs": [
      {
       "html": [
        "<table><tr><td>a0</td><td>a1</td><td>a2</td><td>a3</td><td>a4</td><td>a5</td><td>a6</td><td>a7</td><td>a8</td></tr><tr><td>a9</td><td>a10</td><td>a11</td><td>a12</td><td>a13</td><td>a14</td><td>a15</td><td>a16</td><td>a17</td></tr><tr><td>a18</td><td>a19</td><td>a20</td><td>a21</td><td>a22</td><td>a23</td><td>a24</td><td>a25</td><td>a26</td></tr><tr><td>a27</td><td>a28</td><td>a29</td><td>a30</td><td>a31</td><td>a32</td><td>a33</td><td>a34</td><td>a35</td></tr><tr><td>a36</td><td>a37</td><td>a38</td><td>a39</td><td>a40</td><td>a41</td><td>a42</td><td>a43</td><td>a44</td></tr><tr><td>a45</td><td>a46</td><td>a47</td><td>a48</td><td>a49</td><td>a50</td><td>a51</td><td>a52</td><td>a53</td></tr><tr><td>a54</td><td>a55</td><td>a56</td><td>a57</td><td>a58</td><td>a59</td><td>a60</td><td>a61</td><td>a62</td></tr><tr><td>a63</td><td>a64</td><td>a65</td><td>a66</td><td>a67</td><td>a68</td><td>a69</td><td>a70</td><td>a71</td></tr><tr><td>a72</td><td>a73</td><td>a74</td><td>a75</td><td>a76</td><td>a77</td><td>a78</td><td>a79</td><td>a80</td></tr></table>"
       ],
       "metadata": {},
       "output_type": "pyout",
       "prompt_number": 87,
       "text": [
        "<IPython.core.display.HTML at 0x9e7750c>"
       ]
      }
     ],
     "prompt_number": 87
    },
    {
     "cell_type": "markdown",
     "metadata": {},
     "source": [
      "### Generate equations (in matrix form)"
     ]
    },
    {
     "cell_type": "code",
     "collapsed": false,
     "input": [
      "sudoku_base = []\n",
      "num_rows = 9\n",
      "num_cols = 9\n",
      "\n",
      "# Generate equations for rows\n",
      "for row in xrange(num_rows):\n",
      "    row_offset = num_rows * row\n",
      "    new_row = [0 for i in xrange(num_rows * num_cols)]\n",
      "    for i in xrange(num_rows):\n",
      "        new_row[row_offset + i] = 1\n",
      "    sudoku_base.append(new_row)\n",
      "\n",
      "# Generate equations for columns\n",
      "for col in xrange(num_cols):\n",
      "    col_offset = num_cols * col\n",
      "    new_row = [0 for i in xrange(num_rows * num_cols)]\n",
      "    for i in xrange(num_cols):\n",
      "        new_row[i * 9 + col] = 1\n",
      "    sudoku_base.append(new_row)\n",
      "\n",
      "# Generate equations for squares\n",
      "current_cell = 0\n",
      "for square_start in [0, 3, 6, 27, 30, 33, 54, 57, 60]:\n",
      "    new_row = [0 for i in xrange(num_rows * num_cols)]\n",
      "    for cell_offset in [0, 1, 2, 9, 10, 11, 18, 19, 20]:\n",
      "        new_row[square_start+cell_offset] = 1\n",
      "    sudoku_base.append(new_row)"
     ],
     "language": "python",
     "metadata": {},
     "outputs": [],
     "prompt_number": 88
    },
    {
     "cell_type": "code",
     "collapsed": false,
     "input": [
      "# This is a wide matrix\n",
      "#print_matrix(sudoku_base)"
     ],
     "language": "python",
     "metadata": {},
     "outputs": [],
     "prompt_number": 89
    },
    {
     "cell_type": "code",
     "collapsed": false,
     "input": [
      "# Definition of sample puzzle\n",
      "puzzle1 = {0:8, 3:1, 4:6, 9:4, 10:1, \n",
      "          12:9, 14:8, 17:6, 25:1, 31:8, \n",
      "          32:6, 35:3, 37:8, 38:9, 40:3, \n",
      "          42:2, 43:5, 45:3, 48:2, 49:9, \n",
      "          55:2, 63:7, 66:8, 68:4, 70:6, \n",
      "          71:5, 76:5, 77:7, 80:4}"
     ],
     "language": "python",
     "metadata": {},
     "outputs": [],
     "prompt_number": 90
    },
    {
     "cell_type": "code",
     "collapsed": false,
     "input": [
      "def print_puzzle(puzzle):\n",
      "    puzzle_mat = [' ' for i in xrange(81)]\n",
      "    for (k,v) in puzzle.items():\n",
      "        puzzle_mat[k] = v\n",
      "    return print_matrix(np.reshape(puzzle_mat, (9, -1)))"
     ],
     "language": "python",
     "metadata": {},
     "outputs": [],
     "prompt_number": 91
    },
    {
     "cell_type": "code",
     "collapsed": false,
     "input": [
      "print_puzzle(puzzle1)"
     ],
     "language": "python",
     "metadata": {},
     "outputs": [
      {
       "html": [
        "<table><tr><td>8</td><td> </td><td> </td><td>1</td><td>6</td><td> </td><td> </td><td> </td><td> </td></tr><tr><td>4</td><td>1</td><td> </td><td>9</td><td> </td><td>8</td><td> </td><td> </td><td>6</td></tr><tr><td> </td><td> </td><td> </td><td> </td><td> </td><td> </td><td> </td><td>1</td><td> </td></tr><tr><td> </td><td> </td><td> </td><td> </td><td>8</td><td>6</td><td> </td><td> </td><td>3</td></tr><tr><td> </td><td>8</td><td>9</td><td> </td><td>3</td><td> </td><td>2</td><td>5</td><td> </td></tr><tr><td>3</td><td> </td><td> </td><td>2</td><td>9</td><td> </td><td> </td><td> </td><td> </td></tr><tr><td> </td><td>2</td><td> </td><td> </td><td> </td><td> </td><td> </td><td> </td><td> </td></tr><tr><td>7</td><td> </td><td> </td><td>8</td><td> </td><td>4</td><td> </td><td>6</td><td>5</td></tr><tr><td> </td><td> </td><td> </td><td> </td><td>5</td><td>7</td><td> </td><td> </td><td>4</td></tr></table>"
       ],
       "metadata": {},
       "output_type": "pyout",
       "prompt_number": 92,
       "text": [
        "<IPython.core.display.HTML at 0x9e775ec>"
       ]
      }
     ],
     "prompt_number": 92
    },
    {
     "cell_type": "code",
     "collapsed": false,
     "input": [
      "print \"Number of equations:\", len(puzzle1)+len(a)"
     ],
     "language": "python",
     "metadata": {},
     "outputs": [
      {
       "output_type": "stream",
       "stream": "stdout",
       "text": [
        "Number of equations: 45\n"
       ]
      }
     ],
     "prompt_number": 93
    },
    {
     "cell_type": "code",
     "collapsed": false,
     "input": [
      "print \"Number of unknowns:\", 81 - len(puzzle1)"
     ],
     "language": "python",
     "metadata": {},
     "outputs": [
      {
       "output_type": "stream",
       "stream": "stdout",
       "text": [
        "Number of unknowns: 52\n"
       ]
      }
     ],
     "prompt_number": 94
    },
    {
     "cell_type": "code",
     "collapsed": false,
     "input": [
      "def get_puzzle_rep(puzzle):\n",
      "    a = sudoku_base[:]\n",
      "    b = [sum(range(1,10)) for i in xrange(len(a))]\n",
      "    for (k,v) in puzzle.items():\n",
      "        new_a_row = [0 for i in xrange(81)]\n",
      "        new_a_row[k] = 1\n",
      "        a.append(new_a_row)\n",
      "        b.append(v)\n",
      "    return (a,b)\n"
     ],
     "language": "python",
     "metadata": {},
     "outputs": [],
     "prompt_number": 95
    },
    {
     "cell_type": "code",
     "collapsed": false,
     "input": [
      "p1_a, p1_b = get_puzzle_rep(puzzle1)"
     ],
     "language": "python",
     "metadata": {},
     "outputs": [],
     "prompt_number": 96
    },
    {
     "cell_type": "code",
     "collapsed": false,
     "input": [
      "len(p1_a)"
     ],
     "language": "python",
     "metadata": {},
     "outputs": [
      {
       "metadata": {},
       "output_type": "pyout",
       "prompt_number": 97,
       "text": [
        "56"
       ]
      }
     ],
     "prompt_number": 97
    },
    {
     "cell_type": "code",
     "collapsed": false,
     "input": [
      "x = np.linalg.lstsq(p1_a,p1_b)\n",
      "solution = np.reshape([int(round(i)) for i in x[0]], (9, -1))\n",
      "solution"
     ],
     "language": "python",
     "metadata": {},
     "outputs": [
      {
       "metadata": {},
       "output_type": "pyout",
       "prompt_number": 98,
       "text": [
        "array([[  8,  10, -15,   1,   6,   2,  -8,  22,  19],\n",
        "       [  4,   1,   6,   9,  11,   8,  -4,   5,   6],\n",
        "       [ 22,   4,   6,   3,   4,   1,   4,   1,   0],\n",
        "       [  4,  -5,  14,  -4,   8,   6,  10,   9,   3],\n",
        "       [ -9,   8,   9,   2,   3,   6,   2,   5,  19],\n",
        "       [  3,  20,   1,   2,   9,  12,   7,  -4,  -5],\n",
        "       [  2,   2,   8,  14,   4,  -2,  13,  10,  -5],\n",
        "       [  7,  -3,   9,   8,  -5,   4,  14,   6,   5],\n",
        "       [  4,   8,   8,  10,   5,   7,   7,  -8,   4]])"
       ]
      }
     ],
     "prompt_number": 98
    },
    {
     "cell_type": "markdown",
     "metadata": {},
     "source": [
      "# Constrained Linear Regression - scipy.optimize.nnls"
     ]
    },
    {
     "cell_type": "code",
     "collapsed": false,
     "input": [
      "import scipy.optimize"
     ],
     "language": "python",
     "metadata": {},
     "outputs": [],
     "prompt_number": 99
    },
    {
     "cell_type": "code",
     "collapsed": false,
     "input": [
      "result = scipy.optimize.nnls(p1_a, p1_b)"
     ],
     "language": "python",
     "metadata": {},
     "outputs": [],
     "prompt_number": 100
    },
    {
     "cell_type": "code",
     "collapsed": false,
     "input": [
      "solution = np.reshape([int(round(i)) for i in result[0]], (9, -1))\n",
      "solution"
     ],
     "language": "python",
     "metadata": {},
     "outputs": [
      {
       "metadata": {},
       "output_type": "pyout",
       "prompt_number": 101,
       "text": [
        "array([[ 8, 30,  0,  1,  6,  0,  0,  0,  0],\n",
        "       [ 4,  1,  0,  9,  1,  8, 16,  0,  6],\n",
        "       [ 0,  2,  0,  0,  0, 20, 22,  1,  0],\n",
        "       [23,  0,  0,  0,  8,  6,  5,  0,  3],\n",
        "       [ 0,  8,  9, 17,  3,  0,  2,  5,  1],\n",
        "       [ 3,  2,  0,  2,  9,  0,  0,  3, 26],\n",
        "       [ 0,  2, 21,  8, 13,  0,  0,  1,  0],\n",
        "       [ 7,  0, 15,  8,  0,  4,  0,  6,  5],\n",
        "       [ 0,  0,  0,  0,  5,  7,  0, 29,  4]])"
       ]
      }
     ],
     "prompt_number": 101
    },
    {
     "cell_type": "markdown",
     "metadata": {},
     "source": [
      "# scipy.optimize.fmin_slsqp\n"
     ]
    },
    {
     "cell_type": "code",
     "collapsed": false,
     "input": [
      "import scipy.optimize"
     ],
     "language": "python",
     "metadata": {},
     "outputs": [],
     "prompt_number": 102
    },
    {
     "cell_type": "code",
     "collapsed": false,
     "input": [
      "def objective_func(x):\n",
      "    mat_result = sum((np.dot(p1_a, x) - p1_b)**2)\n",
      "    #duplicate_count = 2 * sum([ (9 - len(set(x[row_start:row_start+9]))) for row_start in xrange(0, 81, 9)])\n",
      "    return mat_result # + duplicate_count"
     ],
     "language": "python",
     "metadata": {},
     "outputs": [],
     "prompt_number": 103
    },
    {
     "cell_type": "code",
     "collapsed": false,
     "input": [
      "objective_func(result[0])"
     ],
     "language": "python",
     "metadata": {},
     "outputs": [
      {
       "metadata": {},
       "output_type": "pyout",
       "prompt_number": 104,
       "text": [
        "1.0822185543500756e-27"
       ]
      }
     ],
     "prompt_number": 104
    },
    {
     "cell_type": "code",
     "collapsed": false,
     "input": [
      "random_guess = [random.randint(1, 9) for i in xrange(81)]\n",
      "objective_func(random_guess)"
     ],
     "language": "python",
     "metadata": {},
     "outputs": [
      {
       "metadata": {},
       "output_type": "pyout",
       "prompt_number": 105,
       "text": [
        "2908"
       ]
      }
     ],
     "prompt_number": 105
    },
    {
     "cell_type": "code",
     "collapsed": false,
     "input": [
      "slsqp_result = scipy.optimize.fmin_slsqp(func=objective_func, x0=random_guess, bounds=[(1,9) for i in xrange(81)])"
     ],
     "language": "python",
     "metadata": {},
     "outputs": [
      {
       "output_type": "stream",
       "stream": "stdout",
       "text": [
        "Optimization terminated successfully.    (Exit mode 0)\n",
        "            Current function value: 6.04558377422e-07\n",
        "            Iterations: 32\n",
        "            Function evaluations: 2685\n",
        "            Gradient evaluations: 32\n"
       ]
      }
     ],
     "prompt_number": 106
    },
    {
     "cell_type": "code",
     "collapsed": false,
     "input": [
      "slsqp_result"
     ],
     "language": "python",
     "metadata": {},
     "outputs": [
      {
       "metadata": {},
       "output_type": "pyout",
       "prompt_number": 107,
       "text": [
        "array([ 7.99983871,  7.39406798,  4.63159891,  1.0000473 ,  5.9997997 ,\n",
        "        3.34262432,  4.11952215,  5.44019812,  5.07234435,  3.99998321,\n",
        "        1.00011965,  3.84754988,  8.99989346,  2.31976857,  8.00000023,\n",
        "        5.57307923,  5.25971783,  5.99988991,  4.33723246,  7.27207426,\n",
        "        4.51753451,  5.6053988 ,  3.04335064,  6.68911455,  6.72837535,\n",
        "        1.00011532,  5.806774  ,  4.85373363,  4.33627625,  2.82552153,\n",
        "        3.19455565,  7.99979809,  5.99985974,  6.30819375,  6.48225075,\n",
        "        2.99985826,  3.43568083,  8.00015305,  8.99990109,  6.42560121,\n",
        "        2.99995296,  3.56982046,  2.00020468,  5.0001682 ,  4.56843909,\n",
        "        3.00005839,  3.94894543,  5.59967979,  1.99968993,  8.99970681,\n",
        "        3.81110146,  4.88929371,  7.0045971 ,  5.74697212,  4.79787823,\n",
        "        1.99997513,  4.97818049,  5.93477499,  5.38712582,  2.58754849,\n",
        "        8.19184646,  5.3167495 ,  5.8059438 ,  7.00005384,  5.88165247,\n",
        "        3.40331889,  8.00011847,  3.25066032,  3.99991304,  2.46443292,\n",
        "        5.99993967,  4.99992925,  5.57560389,  5.16667324,  6.19667369,\n",
        "        3.83989398,  4.99989251,  7.00004202,  4.72498019,  3.49631546,\n",
        "        3.9998761 ])"
       ]
      }
     ],
     "prompt_number": 107
    },
    {
     "cell_type": "code",
     "collapsed": false,
     "input": [
      "z = np.reshape([int(round(i)) for i in slsqp_result], (9, -1))\n",
      "z"
     ],
     "language": "python",
     "metadata": {},
     "outputs": [
      {
       "metadata": {},
       "output_type": "pyout",
       "prompt_number": 108,
       "text": [
        "array([[8, 7, 5, 1, 6, 3, 4, 5, 5],\n",
        "       [4, 1, 4, 9, 2, 8, 6, 5, 6],\n",
        "       [4, 7, 5, 6, 3, 7, 7, 1, 6],\n",
        "       [5, 4, 3, 3, 8, 6, 6, 6, 3],\n",
        "       [3, 8, 9, 6, 3, 4, 2, 5, 5],\n",
        "       [3, 4, 6, 2, 9, 4, 5, 7, 6],\n",
        "       [5, 2, 5, 6, 5, 3, 8, 5, 6],\n",
        "       [7, 6, 3, 8, 3, 4, 2, 6, 5],\n",
        "       [6, 5, 6, 4, 5, 7, 5, 3, 4]])"
       ]
      }
     ],
     "prompt_number": 108
    },
    {
     "cell_type": "code",
     "collapsed": false,
     "input": [
      "objective_func(slsqp_result)"
     ],
     "language": "python",
     "metadata": {},
     "outputs": [
      {
       "metadata": {},
       "output_type": "pyout",
       "prompt_number": 109,
       "text": [
        "6.0455837742221765e-07"
       ]
      }
     ],
     "prompt_number": 109
    },
    {
     "cell_type": "markdown",
     "metadata": {},
     "source": [
      "# Genetic Algorithm\n",
      "\n",
      "The fmin_slsqp result seemed so close, I was curious if running the GA on its output would tweak the last few values into place.  It turns out not to work."
     ]
    },
    {
     "cell_type": "code",
     "collapsed": false,
     "input": [
      "def sudoku_fitness(a, b, attempt):\n",
      "    return sum((np.dot(a, attempt) - b)**2)\n",
      "\n",
      "def sudoku_mutation_swap(current, max_mutations=3):\n",
      "    num_mutations = random.randint(1, max_mutations)\n",
      "    baby = current[:]\n",
      "    for i in xrange(num_mutations):\n",
      "        index1 = random.randint(81)\n",
      "        index2 = random.randint(81)\n",
      "        baby[index1], baby[index2] = baby[index2], baby[index1]\n",
      "    return baby\n",
      "\n",
      "def sudoku_mutation_tweak(current, max_mutations=3):\n",
      "    num_mutations = random.randint(1, max_mutations)\n",
      "    baby = current[:]\n",
      "    for i in xrange(max_mutations):\n",
      "        index1 = random.randint(81)\n",
      "        index2 = random.randint(81)\n",
      "        tweak_amount = random.randint(1, 3)\n",
      "        baby[index1] = ((baby[index1]+tweak_amount) % 9) + 1\n",
      "        baby[index2] = ((baby[index2]+tweak_amount) % 9) + 1\n",
      "    return baby\n",
      "\n",
      "def sudoku_genetic_algorithm(fitness_func, mutation_func, initial_guess=None, max_iters=1000):\n",
      "    iter_count = 0\n",
      "    error_steps = []\n",
      "    current = np.array([i for i in xrange(1,10) for j in xrange(1,10)])\n",
      "    current_fitness = 100000000 # really big - assume the guess is really bad\n",
      "\n",
      "    if initial_guess != None:\n",
      "        current = initial_guess[:]\n",
      "        current_fitness = fitness_func(current)\n",
      "    \n",
      "    for i in xrange(max_iters):\n",
      "        baby = mutation_func(current)\n",
      "        baby_fitness = fitness_func(baby)\n",
      "        \n",
      "        # If we found a perfect solution, just return it!\n",
      "        if baby_fitness == 0:\n",
      "            return (baby, 0)\n",
      "        \n",
      "        # Compare baby fitness to current\n",
      "        elif baby_fitness < current_fitness:\n",
      "            print \"Doing switch: baby_fitness=%d, current_fitness=%d\" % (baby_fitness, current_fitness)\n",
      "            current = baby[:]\n",
      "            current_fitness = baby_fitness\n",
      "        \n",
      "        iter_count += 1\n",
      "        if iter_count % 10000 == 0:\n",
      "            print \"Error (steps=%d): %d\" % (iter_count, current_fitness)\n",
      "            error_steps.append(current_fitness)\n",
      "            \n",
      "    return (current, error_steps)"
     ],
     "language": "python",
     "metadata": {},
     "outputs": [],
     "prompt_number": 125
    },
    {
     "cell_type": "code",
     "collapsed": false,
     "input": [
      "initial_g = np.array([int(round(i)) for i in slsqp_result])\n",
      "fitness = lambda attempt: sudoku_fitness(p1_a, p1_b, attempt)\n",
      "print \"Initial fitness:\", fitness(initial_g)\n",
      "(ga_result, ga_error) = sudoku_genetic_algorithm(fitness, sudoku_mutation_tweak, initial_guess=initial_g, max_iters=400000)\n"
     ],
     "language": "python",
     "metadata": {},
     "outputs": [
      {
       "output_type": "stream",
       "stream": "stdout",
       "text": [
        "Initial fitness: 15\n",
        "Error (steps=10000): 15"
       ]
      },
      {
       "output_type": "stream",
       "stream": "stdout",
       "text": [
        "\n",
        "Error (steps=20000): 15"
       ]
      },
      {
       "output_type": "stream",
       "stream": "stdout",
       "text": [
        "\n",
        "Error (steps=30000): 15"
       ]
      },
      {
       "output_type": "stream",
       "stream": "stdout",
       "text": [
        "\n",
        "Error (steps=40000): 15"
       ]
      },
      {
       "output_type": "stream",
       "stream": "stdout",
       "text": [
        "\n",
        "Error (steps=50000): 15"
       ]
      },
      {
       "output_type": "stream",
       "stream": "stdout",
       "text": [
        "\n",
        "Error (steps=60000): 15"
       ]
      },
      {
       "output_type": "stream",
       "stream": "stdout",
       "text": [
        "\n",
        "Error (steps=70000): 15"
       ]
      },
      {
       "output_type": "stream",
       "stream": "stdout",
       "text": [
        "\n",
        "Error (steps=80000): 15"
       ]
      },
      {
       "output_type": "stream",
       "stream": "stdout",
       "text": [
        "\n",
        "Error (steps=90000): 15"
       ]
      },
      {
       "output_type": "stream",
       "stream": "stdout",
       "text": [
        "\n",
        "Error (steps=100000): 15"
       ]
      },
      {
       "output_type": "stream",
       "stream": "stdout",
       "text": [
        "\n",
        "Error (steps=110000): 15"
       ]
      },
      {
       "output_type": "stream",
       "stream": "stdout",
       "text": [
        "\n",
        "Error (steps=120000): 15"
       ]
      },
      {
       "output_type": "stream",
       "stream": "stdout",
       "text": [
        "\n",
        "Error (steps=130000): 15"
       ]
      },
      {
       "output_type": "stream",
       "stream": "stdout",
       "text": [
        "\n",
        "Error (steps=140000): 15"
       ]
      },
      {
       "output_type": "stream",
       "stream": "stdout",
       "text": [
        "\n",
        "Error (steps=150000): 15"
       ]
      },
      {
       "output_type": "stream",
       "stream": "stdout",
       "text": [
        "\n",
        "Error (steps=160000): 15"
       ]
      },
      {
       "output_type": "stream",
       "stream": "stdout",
       "text": [
        "\n",
        "Error (steps=170000): 15"
       ]
      },
      {
       "output_type": "stream",
       "stream": "stdout",
       "text": [
        "\n",
        "Error (steps=180000): 15"
       ]
      },
      {
       "output_type": "stream",
       "stream": "stdout",
       "text": [
        "\n",
        "Error (steps=190000): 15"
       ]
      },
      {
       "output_type": "stream",
       "stream": "stdout",
       "text": [
        "\n",
        "Error (steps=200000): 15"
       ]
      },
      {
       "output_type": "stream",
       "stream": "stdout",
       "text": [
        "\n",
        "Error (steps=210000): 15"
       ]
      },
      {
       "output_type": "stream",
       "stream": "stdout",
       "text": [
        "\n",
        "Error (steps=220000): 15"
       ]
      },
      {
       "output_type": "stream",
       "stream": "stdout",
       "text": [
        "\n",
        "Error (steps=230000): 15"
       ]
      },
      {
       "output_type": "stream",
       "stream": "stdout",
       "text": [
        "\n",
        "Error (steps=240000): 15"
       ]
      },
      {
       "output_type": "stream",
       "stream": "stdout",
       "text": [
        "\n",
        "Error (steps=250000): 15"
       ]
      },
      {
       "output_type": "stream",
       "stream": "stdout",
       "text": [
        "\n",
        "Error (steps=260000): 15"
       ]
      },
      {
       "output_type": "stream",
       "stream": "stdout",
       "text": [
        "\n",
        "Error (steps=270000): 15"
       ]
      },
      {
       "output_type": "stream",
       "stream": "stdout",
       "text": [
        "\n",
        "Error (steps=280000): 15"
       ]
      },
      {
       "output_type": "stream",
       "stream": "stdout",
       "text": [
        "\n",
        "Error (steps=290000): 15"
       ]
      },
      {
       "output_type": "stream",
       "stream": "stdout",
       "text": [
        "\n",
        "Error (steps=300000): 15"
       ]
      },
      {
       "output_type": "stream",
       "stream": "stdout",
       "text": [
        "\n",
        "Error (steps=310000): 15"
       ]
      },
      {
       "output_type": "stream",
       "stream": "stdout",
       "text": [
        "\n",
        "Error (steps=320000): 15"
       ]
      },
      {
       "output_type": "stream",
       "stream": "stdout",
       "text": [
        "\n",
        "Error (steps=330000): 15"
       ]
      },
      {
       "output_type": "stream",
       "stream": "stdout",
       "text": [
        "\n",
        "Error (steps=340000): 15"
       ]
      },
      {
       "output_type": "stream",
       "stream": "stdout",
       "text": [
        "\n",
        "Error (steps=350000): 15"
       ]
      },
      {
       "output_type": "stream",
       "stream": "stdout",
       "text": [
        "\n",
        "Error (steps=360000): 15"
       ]
      },
      {
       "output_type": "stream",
       "stream": "stdout",
       "text": [
        "\n",
        "Error (steps=370000): 15"
       ]
      },
      {
       "output_type": "stream",
       "stream": "stdout",
       "text": [
        "\n",
        "Error (steps=380000): 15"
       ]
      },
      {
       "output_type": "stream",
       "stream": "stdout",
       "text": [
        "\n",
        "Error (steps=390000): 15"
       ]
      },
      {
       "output_type": "stream",
       "stream": "stdout",
       "text": [
        "\n",
        "Error (steps=400000): 15"
       ]
      },
      {
       "output_type": "stream",
       "stream": "stdout",
       "text": [
        "\n"
       ]
      }
     ],
     "prompt_number": 126
    },
    {
     "cell_type": "code",
     "collapsed": false,
     "input": [
      "np.reshape([int(round(i)) for i in ga_result], (9, -1))"
     ],
     "language": "python",
     "metadata": {},
     "outputs": [
      {
       "metadata": {},
       "output_type": "pyout",
       "prompt_number": 127,
       "text": [
        "array([[8, 5, 2, 7, 5, 5, 3, 6, 9],\n",
        "       [7, 3, 4, 7, 8, 7, 7, 4, 2],\n",
        "       [1, 5, 4, 3, 6, 7, 9, 3, 3],\n",
        "       [3, 5, 8, 1, 2, 9, 7, 1, 4],\n",
        "       [6, 5, 9, 7, 2, 6, 9, 3, 8],\n",
        "       [9, 9, 7, 5, 9, 3, 3, 3, 8],\n",
        "       [2, 7, 8, 7, 6, 3, 5, 1, 2],\n",
        "       [8, 8, 1, 6, 4, 5, 7, 3, 3],\n",
        "       [6, 5, 2, 6, 7, 8, 6, 2, 3]])"
       ]
      }
     ],
     "prompt_number": 127
    },
    {
     "cell_type": "code",
     "collapsed": false,
     "input": [
      "np.reshape([int(round(i)) for i in initial_g], (9, -1))"
     ],
     "language": "python",
     "metadata": {},
     "outputs": [
      {
       "metadata": {},
       "output_type": "pyout",
       "prompt_number": 128,
       "text": [
        "array([[8, 5, 2, 7, 5, 5, 3, 6, 9],\n",
        "       [7, 3, 4, 7, 8, 7, 7, 4, 2],\n",
        "       [1, 5, 4, 3, 6, 7, 9, 3, 3],\n",
        "       [3, 5, 8, 1, 2, 9, 7, 1, 4],\n",
        "       [6, 5, 9, 7, 2, 6, 9, 3, 8],\n",
        "       [9, 9, 7, 5, 9, 3, 3, 3, 8],\n",
        "       [2, 7, 8, 7, 6, 3, 5, 1, 2],\n",
        "       [8, 8, 1, 6, 4, 5, 7, 3, 3],\n",
        "       [6, 5, 2, 6, 7, 8, 6, 2, 3]])"
       ]
      }
     ],
     "prompt_number": 128
    },
    {
     "cell_type": "code",
     "collapsed": false,
     "input": [],
     "language": "python",
     "metadata": {},
     "outputs": []
    }
   ],
   "metadata": {}
  }
 ]
}