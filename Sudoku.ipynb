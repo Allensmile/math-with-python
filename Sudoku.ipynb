{
 "metadata": {
  "name": ""
 },
 "nbformat": 3,
 "nbformat_minor": 0,
 "worksheets": [
  {
   "cells": [
    {
     "cell_type": "markdown",
     "metadata": {},
     "source": [
      "# (Attempted) Solving Sudoku with Linear Algebra\n",
      "\n",
      "### Pretty-print matrix function"
     ]
    },
    {
     "cell_type": "code",
     "collapsed": false,
     "input": [
      "from IPython.display import HTML\n",
      "\n",
      "def print_matrix(mat):\n",
      "    t = [\"<table>\"]\n",
      "    for row in mat:\n",
      "        t.append(\"<tr>\")\n",
      "        for col in row:\n",
      "            t.append(\"<td>\" + str(col) + \"</td>\")\n",
      "        t.append(\"</tr>\")\n",
      "    t.append(\"</table>\")\n",
      "    return HTML(''.join(t))\n",
      "\n",
      "print_matrix([[1,2],[3,4]])"
     ],
     "language": "python",
     "metadata": {},
     "outputs": [
      {
       "html": [
        "<table><tr><td>1</td><td>2</td></tr><tr><td>3</td><td>4</td></tr></table>"
       ],
       "metadata": {},
       "output_type": "pyout",
       "prompt_number": 1,
       "text": [
        "<IPython.core.display.HTML at 0xa76c2cc>"
       ]
      }
     ],
     "prompt_number": 1
    },
    {
     "cell_type": "markdown",
     "metadata": {},
     "source": [
      "## 4x4 Sudoku\n",
      "\n",
      "<table class=\"invisible-table\"><tr><td>\n",
      "\n",
      "Puzzle\n",
      "<table class=\"padded-table\">\n",
      "<tr><td><b>1</b></td><td>&nbsp;</td><td>&nbsp;</td><td>&nbsp;</td></tr>\n",
      "<tr><td> </td><td>&nbsp;</td><td><b>4</b></td><td>&nbsp;</td></tr>\n",
      "<tr><td> </td><td><b>3</b></td><td>&nbsp;</td><td>&nbsp;</td></tr>\n",
      "<tr><td>&nbsp;</td><td>&nbsp;</td><td><b>2</b></td><td>&nbsp;</td></tr>\n",
      "</table>\n",
      "\n",
      "</td><td>\n",
      "\n",
      "Solution\n",
      "<table class=\"padded-table\">\n",
      "<tr><td>1</td><td>4</td><td>3</td><td>2</td></tr>\n",
      "<tr><td>3</td><td>2</td><td>4</td><td>1</td></tr>\n",
      "<tr><td>2</td><td>3</td><td>1</td><td>4</td></tr>\n",
      "<tr><td>4</td><td>1</td><td>2</td><td>3</td></tr>\n",
      "</table>\n",
      "\n",
      "</td></tr></table>\n",
      "\n",
      "<style>\n",
      ".padded-table td { padding: 15px; }\n",
      ".invisible-table { border: 0px; }\n",
      "</style>\n"
     ]
    },
    {
     "cell_type": "code",
     "collapsed": false,
     "input": [
      "m1 = [['a01', 'a02', 'a03', 'a04'],\n",
      "      ['a05', 'a06', 'a07', 'a08'],\n",
      "      ['a09', 'a10', 'a11', 'a12'],\n",
      "      ['a13', 'a14', 'a15', 'a16']]\n",
      "\n",
      "print_matrix(m1)"
     ],
     "language": "python",
     "metadata": {},
     "outputs": [
      {
       "html": [
        "<table><tr><td>a01</td><td>a02</td><td>a03</td><td>a04</td></tr><tr><td>a05</td><td>a06</td><td>a07</td><td>a08</td></tr><tr><td>a09</td><td>a10</td><td>a11</td><td>a12</td></tr><tr><td>a13</td><td>a14</td><td>a15</td><td>a16</td></tr></table>"
       ],
       "metadata": {},
       "output_type": "pyout",
       "prompt_number": 2,
       "text": [
        "<IPython.core.display.HTML at 0xa76c62c>"
       ]
      }
     ],
     "prompt_number": 2
    },
    {
     "cell_type": "markdown",
     "metadata": {},
     "source": [
      "### System of Equations to describe puzzle\n",
      "\n",
      "#### Sudoku-constant equations\n",
      "\n",
      "These first 12 equations are the same for all 4x4 sudoku puzzles - they are the rules of the game:\n",
      "\n",
      "By Rows:\n",
      "\n",
      "* a01 + a02 + a03 + a04 = 10\n",
      "* a05 + a06 + a07 + a08 = 10\n",
      "* a09 + a10 + a11 + a12 = 10\n",
      "* a13 + a14 + a15 + a16 = 10\n",
      "\n",
      "By Columns:\n",
      "\n",
      "* a01 + a05 + a09 + a13 = 10\n",
      "* a02 + a06 + a10 + a14 = 10\n",
      "* a03 + a07 + a11 + a15 = 10\n",
      "* a04 + a08 + a12 + a16 = 10\n",
      "\n",
      "By Quandrants:\n",
      "\n",
      "* a01 + a02 + a05 + a06 = 10\n",
      "* a03 + a04 + a07 + a08 = 10\n",
      "* a09 + a10 + a13 + a14 = 10\n",
      "* a11 + a12 + a15 + a16 = 10\n",
      "\n",
      "\n",
      "#### Puzzle-specific equations\n",
      "\n",
      "These last 4 equations are what we are given for this particular puzzle:\n",
      "\n",
      "* a01 = 1\n",
      "* a07 = 4\n",
      "* a10 = 3\n",
      "* a15 = 2\n",
      "\n"
     ]
    },
    {
     "cell_type": "code",
     "collapsed": false,
     "input": [
      "a =   [[1, 1, 1, 1, 0, 0, 0, 0, 0, 0, 0, 0, 0, 0, 0, 0],\n",
      "       [0, 0, 0, 0, 1, 1, 1, 1, 0, 0, 0, 0, 0, 0, 0, 0],\n",
      "       [0, 0, 0, 0, 0, 0, 0, 0, 1, 1, 1, 1, 0, 0, 0, 0],\n",
      "       [0, 0, 0, 0, 0, 0, 0, 0, 0, 0, 0, 0, 1, 1, 1, 1],\n",
      "       \n",
      "       [1, 0, 0, 0, 1, 0, 0, 0, 1, 0, 0, 0, 1, 0, 0, 0],\n",
      "       [0, 1, 0, 0, 0, 1, 0, 0, 0, 1, 0, 0, 0, 1, 0, 0],\n",
      "       [0, 0, 1, 0, 0, 0, 1, 0, 0, 0, 1, 0, 0, 0, 1, 0],\n",
      "       [0, 0, 0, 1, 0, 0, 0, 1, 0, 0, 0, 1, 0, 0, 0, 1],\n",
      "       \n",
      "       [1, 1, 0, 0, 1, 1, 0, 0, 0, 0, 0, 0, 0, 0, 0, 0],\n",
      "       [0, 0, 1, 1, 0, 0, 1, 1, 0, 0, 0, 0, 0, 0, 0, 0],\n",
      "       [0, 0, 0, 0, 0, 0, 0, 0, 1, 1, 0, 0, 1, 1, 0, 0],\n",
      "       [0, 0, 0, 0, 0, 0, 0, 0, 0, 0, 1, 1, 0, 0, 1, 1],\n",
      "       \n",
      "       [1, 0, 0, 0, 0, 0, 0, 0, 0, 0, 0, 0, 0, 0, 0, 0],\n",
      "       [0, 0, 0, 0, 0, 0, 1, 0, 0, 0, 0, 0, 0, 0, 0, 0],\n",
      "       [0, 0, 0, 0, 0, 0, 0, 0, 0, 1, 0, 0, 0, 0, 0, 0],\n",
      "       [0, 0, 0, 0, 0, 0, 0, 0, 0, 0, 0, 0, 0, 0, 1, 0]]\n",
      "\n",
      "b = [10, 10, 10, 10,  10, 10, 10, 10,  10, 10, 10, 10,  1, 4, 3, 2]"
     ],
     "language": "python",
     "metadata": {},
     "outputs": [],
     "prompt_number": 3
    },
    {
     "cell_type": "code",
     "collapsed": false,
     "input": [
      "x = np.linalg.lstsq(a,b)\n",
      "np.reshape(x[0], (4,-1))"
     ],
     "language": "python",
     "metadata": {},
     "outputs": [
      {
       "metadata": {},
       "output_type": "pyout",
       "prompt_number": 4,
       "text": [
        "array([[ 1.        ,  4.03670844,  1.45282164,  3.51046992],\n",
        "       [ 3.71948346,  1.2438081 ,  4.        ,  1.03670844],\n",
        "       [ 2.09403633,  3.        ,  2.54717836,  2.35878531],\n",
        "       [ 3.18648021,  1.71948346,  2.        ,  3.09403633]])"
       ]
      }
     ],
     "prompt_number": 4
    },
    {
     "cell_type": "code",
     "collapsed": false,
     "input": [
      "solution = np.reshape([int(round(i)) for i in x[0]], (4, -1))\n",
      "solution"
     ],
     "language": "python",
     "metadata": {},
     "outputs": [
      {
       "metadata": {},
       "output_type": "pyout",
       "prompt_number": 5,
       "text": [
        "array([[1, 4, 1, 4],\n",
        "       [4, 1, 4, 1],\n",
        "       [2, 3, 3, 2],\n",
        "       [3, 2, 2, 3]])"
       ]
      }
     ],
     "prompt_number": 5
    },
    {
     "cell_type": "markdown",
     "metadata": {},
     "source": [
      "# Linear Regression Implementation\n",
      "\n",
      "I wanted to implement my own linear regression algorithm to better understand how it works."
     ]
    },
    {
     "cell_type": "code",
     "collapsed": false,
     "input": [
      "# TODO: Add precesion early break\n",
      "def linear_regression(a, b, precision=0.01, learning_rate=0.1, max_iters = 200):\n",
      "    m = len(b)\n",
      "    omega = np.ones(m)\n",
      "    \n",
      "    for iter in xrange(max_iters):\n",
      "        for i in xrange(m):\n",
      "            omega[i] = omega[i] - learning_rate * (1.0/m) * sum((np.dot(a, omega) - b) * a[i])\n",
      "        \n",
      "    return omega"
     ],
     "language": "python",
     "metadata": {},
     "outputs": [],
     "prompt_number": 6
    },
    {
     "cell_type": "markdown",
     "metadata": {},
     "source": [
      "### Test problem to solve"
     ]
    },
    {
     "cell_type": "code",
     "collapsed": false,
     "input": [
      "# 3x+4y=7 and 5x+6y=8\n",
      "a1=[[3,4],[5,6]]\n",
      "b1=[7,8]\n",
      "linear_regression(a1,b1)"
     ],
     "language": "python",
     "metadata": {},
     "outputs": [
      {
       "metadata": {},
       "output_type": "pyout",
       "prompt_number": 7,
       "text": [
        "array([-5. ,  5.5])"
       ]
      }
     ],
     "prompt_number": 7
    },
    {
     "cell_type": "markdown",
     "metadata": {},
     "source": [
      "### Compare with numpy implementation's solution"
     ]
    },
    {
     "cell_type": "code",
     "collapsed": false,
     "input": [
      "((x,y),_,_,_) = np.linalg.lstsq(a1,b1)\n",
      "(x,y)"
     ],
     "language": "python",
     "metadata": {},
     "outputs": [
      {
       "metadata": {},
       "output_type": "pyout",
       "prompt_number": 8,
       "text": [
        "(-5.0000000000000071, 5.5000000000000062)"
       ]
      }
     ],
     "prompt_number": 8
    },
    {
     "cell_type": "code",
     "collapsed": false,
     "input": [
      "result = linear_regression(a,b)\n",
      "result"
     ],
     "language": "python",
     "metadata": {},
     "outputs": [
      {
       "metadata": {},
       "output_type": "pyout",
       "prompt_number": 9,
       "text": [
        "array([  4.71143849,   4.688242  ,   4.66519049,  -0.71713789,\n",
        "         1.9568043 ,  -6.86351593,   1.06255254,  17.08008666,\n",
        "        -1.34069241,  10.54590296,  -3.6327123 ,   7.43473406,\n",
        "        -0.87012213,   7.11479335,  -4.74101031,  -2.80275689])"
       ]
      }
     ],
     "prompt_number": 9
    },
    {
     "cell_type": "markdown",
     "metadata": {},
     "source": [
      "# Trying on Normal (9x9) Sudoku Puzzle"
     ]
    },
    {
     "cell_type": "code",
     "collapsed": false,
     "input": [
      "s9x9_flat = np.array(['a'+str(i) for i in xrange(81)])\n",
      "s9x9 = np.reshape(s9x9_flat, (9, -1))\n",
      "\n",
      "print_matrix(s9x9)"
     ],
     "language": "python",
     "metadata": {},
     "outputs": [
      {
       "html": [
        "<table><tr><td>a0</td><td>a1</td><td>a2</td><td>a3</td><td>a4</td><td>a5</td><td>a6</td><td>a7</td><td>a8</td></tr><tr><td>a9</td><td>a10</td><td>a11</td><td>a12</td><td>a13</td><td>a14</td><td>a15</td><td>a16</td><td>a17</td></tr><tr><td>a18</td><td>a19</td><td>a20</td><td>a21</td><td>a22</td><td>a23</td><td>a24</td><td>a25</td><td>a26</td></tr><tr><td>a27</td><td>a28</td><td>a29</td><td>a30</td><td>a31</td><td>a32</td><td>a33</td><td>a34</td><td>a35</td></tr><tr><td>a36</td><td>a37</td><td>a38</td><td>a39</td><td>a40</td><td>a41</td><td>a42</td><td>a43</td><td>a44</td></tr><tr><td>a45</td><td>a46</td><td>a47</td><td>a48</td><td>a49</td><td>a50</td><td>a51</td><td>a52</td><td>a53</td></tr><tr><td>a54</td><td>a55</td><td>a56</td><td>a57</td><td>a58</td><td>a59</td><td>a60</td><td>a61</td><td>a62</td></tr><tr><td>a63</td><td>a64</td><td>a65</td><td>a66</td><td>a67</td><td>a68</td><td>a69</td><td>a70</td><td>a71</td></tr><tr><td>a72</td><td>a73</td><td>a74</td><td>a75</td><td>a76</td><td>a77</td><td>a78</td><td>a79</td><td>a80</td></tr></table>"
       ],
       "metadata": {},
       "output_type": "pyout",
       "prompt_number": 10,
       "text": [
        "<IPython.core.display.HTML at 0xa7b3e4c>"
       ]
      }
     ],
     "prompt_number": 10
    },
    {
     "cell_type": "markdown",
     "metadata": {},
     "source": [
      "### Generate equations (in matrix form)"
     ]
    },
    {
     "cell_type": "code",
     "collapsed": false,
     "input": [
      "sudoku_base = []\n",
      "num_rows = 9\n",
      "num_cols = 9\n",
      "\n",
      "# Generate equations for rows\n",
      "for row in xrange(num_rows):\n",
      "    row_offset = num_rows * row\n",
      "    new_row = [0 for i in xrange(num_rows * num_cols)]\n",
      "    for i in xrange(num_rows):\n",
      "        new_row[row_offset + i] = 1\n",
      "    sudoku_base.append(new_row)\n",
      "\n",
      "# Generate equations for columns\n",
      "for col in xrange(num_cols):\n",
      "    col_offset = num_cols * col\n",
      "    new_row = [0 for i in xrange(num_rows * num_cols)]\n",
      "    for i in xrange(num_cols):\n",
      "        new_row[i * 9 + col] = 1\n",
      "    sudoku_base.append(new_row)\n",
      "\n",
      "# Generate equations for squares\n",
      "current_cell = 0\n",
      "for square_start in [0, 3, 6, 27, 30, 33, 54, 57, 60]:\n",
      "    new_row = [0 for i in xrange(num_rows * num_cols)]\n",
      "    for cell_offset in [0, 1, 2, 9, 10, 11, 18, 19, 20]:\n",
      "        new_row[square_start+cell_offset] = 1\n",
      "    sudoku_base.append(new_row)"
     ],
     "language": "python",
     "metadata": {},
     "outputs": [],
     "prompt_number": 11
    },
    {
     "cell_type": "code",
     "collapsed": false,
     "input": [
      "# This is a wide matrix\n",
      "#print_matrix(sudoku_base)"
     ],
     "language": "python",
     "metadata": {},
     "outputs": [],
     "prompt_number": 12
    },
    {
     "cell_type": "code",
     "collapsed": false,
     "input": [
      "# Definition of sample puzzle\n",
      "puzzle1 = {0:8, 3:1, 4:6, 9:4, 10:1, \n",
      "          12:9, 14:8, 17:6, 25:1, 31:8, \n",
      "          32:6, 35:3, 37:8, 38:9, 40:3, \n",
      "          42:2, 43:5, 45:3, 48:2, 49:9, \n",
      "          55:2, 63:7, 66:8, 68:4, 70:6, \n",
      "          71:5, 76:5, 77:7, 80:4}"
     ],
     "language": "python",
     "metadata": {},
     "outputs": [],
     "prompt_number": 13
    },
    {
     "cell_type": "code",
     "collapsed": false,
     "input": [
      "def print_puzzle(puzzle):\n",
      "    puzzle_mat = [' ' for i in xrange(81)]\n",
      "    for (k,v) in puzzle.items():\n",
      "        puzzle_mat[k] = v\n",
      "    return print_matrix(np.reshape(puzzle_mat, (9, -1)))"
     ],
     "language": "python",
     "metadata": {},
     "outputs": [],
     "prompt_number": 14
    },
    {
     "cell_type": "code",
     "collapsed": false,
     "input": [
      "print_puzzle(puzzle1)"
     ],
     "language": "python",
     "metadata": {},
     "outputs": [
      {
       "html": [
        "<table><tr><td>8</td><td> </td><td> </td><td>1</td><td>6</td><td> </td><td> </td><td> </td><td> </td></tr><tr><td>4</td><td>1</td><td> </td><td>9</td><td> </td><td>8</td><td> </td><td> </td><td>6</td></tr><tr><td> </td><td> </td><td> </td><td> </td><td> </td><td> </td><td> </td><td>1</td><td> </td></tr><tr><td> </td><td> </td><td> </td><td> </td><td>8</td><td>6</td><td> </td><td> </td><td>3</td></tr><tr><td> </td><td>8</td><td>9</td><td> </td><td>3</td><td> </td><td>2</td><td>5</td><td> </td></tr><tr><td>3</td><td> </td><td> </td><td>2</td><td>9</td><td> </td><td> </td><td> </td><td> </td></tr><tr><td> </td><td>2</td><td> </td><td> </td><td> </td><td> </td><td> </td><td> </td><td> </td></tr><tr><td>7</td><td> </td><td> </td><td>8</td><td> </td><td>4</td><td> </td><td>6</td><td>5</td></tr><tr><td> </td><td> </td><td> </td><td> </td><td>5</td><td>7</td><td> </td><td> </td><td>4</td></tr></table>"
       ],
       "metadata": {},
       "output_type": "pyout",
       "prompt_number": 15,
       "text": [
        "<IPython.core.display.HTML at 0xa7b388c>"
       ]
      }
     ],
     "prompt_number": 15
    },
    {
     "cell_type": "code",
     "collapsed": false,
     "input": [
      "print \"Number of equations:\", len(puzzle1)+len(a)"
     ],
     "language": "python",
     "metadata": {},
     "outputs": [
      {
       "output_type": "stream",
       "stream": "stdout",
       "text": [
        "Number of equations: 45\n"
       ]
      }
     ],
     "prompt_number": 16
    },
    {
     "cell_type": "code",
     "collapsed": false,
     "input": [
      "print \"Number of unknowns:\", 81 - len(puzzle1)"
     ],
     "language": "python",
     "metadata": {},
     "outputs": [
      {
       "output_type": "stream",
       "stream": "stdout",
       "text": [
        "Number of unknowns: 52\n"
       ]
      }
     ],
     "prompt_number": 17
    },
    {
     "cell_type": "code",
     "collapsed": false,
     "input": [
      "def get_puzzle_rep(puzzle):\n",
      "    a = sudoku_base[:]\n",
      "    b = [sum(range(1,10)) for i in xrange(len(a))]\n",
      "    for (k,v) in puzzle.items():\n",
      "        new_a_row = [0 for i in xrange(81)]\n",
      "        new_a_row[k] = 1\n",
      "        a.append(new_a_row)\n",
      "        b.append(v)\n",
      "    return (a,b)\n"
     ],
     "language": "python",
     "metadata": {},
     "outputs": [],
     "prompt_number": 18
    },
    {
     "cell_type": "code",
     "collapsed": false,
     "input": [
      "p1_a, p1_b = get_puzzle_rep(puzzle1)"
     ],
     "language": "python",
     "metadata": {},
     "outputs": [],
     "prompt_number": 19
    },
    {
     "cell_type": "code",
     "collapsed": false,
     "input": [
      "len(p1_a)"
     ],
     "language": "python",
     "metadata": {},
     "outputs": [
      {
       "metadata": {},
       "output_type": "pyout",
       "prompt_number": 20,
       "text": [
        "56"
       ]
      }
     ],
     "prompt_number": 20
    },
    {
     "cell_type": "code",
     "collapsed": false,
     "input": [
      "x = np.linalg.lstsq(p1_a,p1_b)\n",
      "solution = np.reshape([int(round(i)) for i in x[0]], (9, -1))\n",
      "solution"
     ],
     "language": "python",
     "metadata": {},
     "outputs": [
      {
       "metadata": {},
       "output_type": "pyout",
       "prompt_number": 21,
       "text": [
        "array([[  8,  10, -15,   1,   6,   2,  -8,  22,  19],\n",
        "       [  4,   1,   6,   9,  11,   8,  -4,   5,   6],\n",
        "       [ 22,   4,   6,   3,   4,   1,   4,   1,   0],\n",
        "       [  4,  -5,  14,  -4,   8,   6,  10,   9,   3],\n",
        "       [ -9,   8,   9,   2,   3,   6,   2,   5,  19],\n",
        "       [  3,  20,   1,   2,   9,  12,   7,  -4,  -5],\n",
        "       [  2,   2,   8,  14,   4,  -2,  13,  10,  -5],\n",
        "       [  7,  -3,   9,   8,  -5,   4,  14,   6,   5],\n",
        "       [  4,   8,   8,  10,   5,   7,   7,  -8,   4]])"
       ]
      }
     ],
     "prompt_number": 21
    },
    {
     "cell_type": "markdown",
     "metadata": {},
     "source": [
      "# Constrained Linear Regression - scipy.optimize.nnls"
     ]
    },
    {
     "cell_type": "code",
     "collapsed": false,
     "input": [
      "import scipy.optimize"
     ],
     "language": "python",
     "metadata": {},
     "outputs": [],
     "prompt_number": 22
    },
    {
     "cell_type": "code",
     "collapsed": false,
     "input": [
      "result = scipy.optimize.nnls(p1_a, p1_b)"
     ],
     "language": "python",
     "metadata": {},
     "outputs": [],
     "prompt_number": 23
    },
    {
     "cell_type": "code",
     "collapsed": false,
     "input": [
      "solution = np.reshape([int(round(i)) for i in result[0]], (9, -1))\n",
      "solution"
     ],
     "language": "python",
     "metadata": {},
     "outputs": [
      {
       "metadata": {},
       "output_type": "pyout",
       "prompt_number": 24,
       "text": [
        "array([[ 8, 30,  0,  1,  6,  0,  0,  0,  0],\n",
        "       [ 4,  1,  0,  9,  1,  8, 16,  0,  6],\n",
        "       [ 0,  2,  0,  0,  0, 20, 22,  1,  0],\n",
        "       [23,  0,  0,  0,  8,  6,  5,  0,  3],\n",
        "       [ 0,  8,  9, 17,  3,  0,  2,  5,  1],\n",
        "       [ 3,  2,  0,  2,  9,  0,  0,  3, 26],\n",
        "       [ 0,  2, 21,  8, 13,  0,  0,  1,  0],\n",
        "       [ 7,  0, 15,  8,  0,  4,  0,  6,  5],\n",
        "       [ 0,  0,  0,  0,  5,  7,  0, 29,  4]])"
       ]
      }
     ],
     "prompt_number": 24
    },
    {
     "cell_type": "markdown",
     "metadata": {},
     "source": [
      "# scipy.optimize.fmin_slsqp\n"
     ]
    },
    {
     "cell_type": "code",
     "collapsed": false,
     "input": [
      "import scipy.optimize"
     ],
     "language": "python",
     "metadata": {},
     "outputs": [],
     "prompt_number": 25
    },
    {
     "cell_type": "code",
     "collapsed": false,
     "input": [
      "def objective_func(x):\n",
      "    mat_result = sum((np.dot(p1_a, x) - p1_b)**2)\n",
      "    duplicate_count = 2 * sum([ (9 - len(set(x[row_start:row_start+9]))) for row_start in xrange(0, 81, 9)])\n",
      "    return mat_result + duplicate_count"
     ],
     "language": "python",
     "metadata": {},
     "outputs": [],
     "prompt_number": 26
    },
    {
     "cell_type": "code",
     "collapsed": false,
     "input": [
      "objective_func(result[0])"
     ],
     "language": "python",
     "metadata": {},
     "outputs": [
      {
       "metadata": {},
       "output_type": "pyout",
       "prompt_number": 27,
       "text": [
        "44.0"
       ]
      }
     ],
     "prompt_number": 27
    },
    {
     "cell_type": "code",
     "collapsed": false,
     "input": [
      "random_guess = [random.randint(1, 9) for i in xrange(81)]\n",
      "objective_func(random_guess)"
     ],
     "language": "python",
     "metadata": {},
     "outputs": [
      {
       "metadata": {},
       "output_type": "pyout",
       "prompt_number": 28,
       "text": [
        "2059"
       ]
      }
     ],
     "prompt_number": 28
    },
    {
     "cell_type": "code",
     "collapsed": false,
     "input": [
      "slsqp_result = scipy.optimize.fmin_slsqp(func=objective_func, x0=random_guess, bounds=[(1,9) for i in xrange(81)])"
     ],
     "language": "python",
     "metadata": {},
     "outputs": [
      {
       "output_type": "stream",
       "stream": "stdout",
       "text": [
        "Optimization terminated successfully.    (Exit mode 0)\n",
        "            Current function value: 5.37144499141e-07\n",
        "            Iterations: 39\n",
        "            Function evaluations: 3277\n",
        "            Gradient evaluations: 39\n"
       ]
      }
     ],
     "prompt_number": 29
    },
    {
     "cell_type": "code",
     "collapsed": false,
     "input": [
      "slsqp_result"
     ],
     "language": "python",
     "metadata": {},
     "outputs": [
      {
       "metadata": {},
       "output_type": "pyout",
       "prompt_number": 30,
       "text": [
        "array([ 7.99985098,  4.16409794,  5.29839704,  1.        ,  5.99994026,\n",
        "        1.17603083,  8.63079141,  3.75848772,  6.9724534 ,  3.99990381,\n",
        "        1.0000165 ,  4.03432435,  9.        ,  1.77303844,  8.00028428,\n",
        "        2.24860558,  8.94411932,  5.99967068,  5.17101477,  8.76896699,\n",
        "        4.56337745,  5.82555442,  5.71476748,  6.51039642,  5.78710259,\n",
        "        1.        ,  1.65884691,  2.17708843,  8.53519932,  1.66629071,\n",
        "        1.08683852,  8.00003827,  5.99989959,  5.69394943,  8.84064728,\n",
        "        3.00012419,  5.97859926,  7.99992973,  9.        ,  7.24297123,\n",
        "        3.00022777,  1.38317465,  1.99999235,  4.99996458,  3.39511042,\n",
        "        3.00026745,  2.7115489 ,  3.93110348,  1.99999562,  8.99999378,\n",
        "        7.28682878,  5.07557202,  4.27090117,  7.72371146,  5.62912594,\n",
        "        1.99998443,  5.09652734,  8.76384663,  1.58190604,  3.64329502,\n",
        "        8.50280973,  2.53262431,  7.2499539 ,  7.00006202,  1.34086933,\n",
        "        7.55193126,  7.99992909,  4.93031501,  4.00007551,  1.17695985,\n",
        "        5.99989428,  4.99995533,  4.04411221,  8.47938657,  3.85800541,\n",
        "        2.08091796,  4.99984988,  6.99993552,  5.88424922,  4.65332575,\n",
        "        4.00020211])"
       ]
      }
     ],
     "prompt_number": 30
    },
    {
     "cell_type": "code",
     "collapsed": false,
     "input": [
      "z = np.reshape([int(round(i)) for i in slsqp_result], (9, -1))\n",
      "z"
     ],
     "language": "python",
     "metadata": {},
     "outputs": [
      {
       "metadata": {},
       "output_type": "pyout",
       "prompt_number": 31,
       "text": [
        "array([[8, 4, 5, 1, 6, 1, 9, 4, 7],\n",
        "       [4, 1, 4, 9, 2, 8, 2, 9, 6],\n",
        "       [5, 9, 5, 6, 6, 7, 6, 1, 2],\n",
        "       [2, 9, 2, 1, 8, 6, 6, 9, 3],\n",
        "       [6, 8, 9, 7, 3, 1, 2, 5, 3],\n",
        "       [3, 3, 4, 2, 9, 7, 5, 4, 8],\n",
        "       [6, 2, 5, 9, 2, 4, 9, 3, 7],\n",
        "       [7, 1, 8, 8, 5, 4, 1, 6, 5],\n",
        "       [4, 8, 4, 2, 5, 7, 6, 5, 4]])"
       ]
      }
     ],
     "prompt_number": 31
    },
    {
     "cell_type": "code",
     "collapsed": false,
     "input": [
      "objective_func(slsqp_result)"
     ],
     "language": "python",
     "metadata": {},
     "outputs": [
      {
       "metadata": {},
       "output_type": "pyout",
       "prompt_number": 32,
       "text": [
        "5.3714449914086652e-07"
       ]
      }
     ],
     "prompt_number": 32
    },
    {
     "cell_type": "markdown",
     "metadata": {},
     "source": [
      "# Genetic Algorithm\n",
      "\n",
      "The fmin_slsqp result seemed so close, I was curious if running the GA on its output would tweak the last few values into place.  It turns out not to work."
     ]
    },
    {
     "cell_type": "code",
     "collapsed": false,
     "input": [
      "def sudoku_fitness(a, b, attempt):\n",
      "    return sum((np.dot(a, attempt) - b)**2)\n",
      "\n",
      "def sudoku_mutation_swap(current, max_mutations=3):\n",
      "    num_mutations = random.randint(1, max_mutations)\n",
      "    baby = current[:]\n",
      "    for i in xrange(num_mutations):\n",
      "        index1 = random.randint(81)\n",
      "        index2 = random.randint(81)\n",
      "        baby[index1], baby[index2] = baby[index2], baby[index1]\n",
      "    return baby\n",
      "\n",
      "def sudoku_mutation_tweak(current, max_mutations=3):\n",
      "    num_mutations = random.randint(1, max_mutations)\n",
      "    baby = current[:]\n",
      "    for i in xrange(max_mutations):\n",
      "        index1 = random.randint(81)\n",
      "        index2 = random.randint(81)\n",
      "        tweak_amount = random.randint(1, 3)\n",
      "        (baby[index1], baby[index2]) = (baby[index1]+tweak_amount, baby[index2]-tweak_amount)\n",
      "    return baby\n",
      "\n",
      "def sudoku_genetic_algorithm(fitness_func, mutation_func, initial_guess=None, max_iters=1000):\n",
      "    iter_count = 0\n",
      "    error_steps = []\n",
      "    current = np.array([i for i in xrange(1,10) for j in xrange(1,10)])\n",
      "    current_fitness = 100000000 # really big - assume the guess is really bad\n",
      "\n",
      "    if initial_guess != None:\n",
      "        current = initial_guess\n",
      "        current_fitness = fitness_func(current)\n",
      "    \n",
      "    for i in xrange(max_iters):\n",
      "        baby = mutation_func(current)\n",
      "        baby_fitness = fitness_func(baby)\n",
      "        \n",
      "        # If we found a perfect solution, just return it!\n",
      "        if baby_fitness == 0:\n",
      "            return (baby, 0)\n",
      "        \n",
      "        # Compare baby fitness to current\n",
      "        elif baby_fitness < current_fitness:\n",
      "            current = baby[:]\n",
      "            current_fitness = baby_fitness\n",
      "        \n",
      "        iter_count += 1\n",
      "        if iter_count % 1000 == 0:\n",
      "            print \"Error (steps=%d): %d\" % (iter_count, current_fitness)\n",
      "            error_steps.append(current_fitness)\n",
      "            \n",
      "    return (current, error_steps)"
     ],
     "language": "python",
     "metadata": {},
     "outputs": [],
     "prompt_number": 36
    },
    {
     "cell_type": "code",
     "collapsed": false,
     "input": [
      "initial_g = np.array([int(round(i)) for i in slsqp_result])\n",
      "fitness = lambda attempt: sudoku_fitness(p1_a, p1_b, attempt)\n",
      "(ga_result, ga_error) = sudoku_genetic_algorithm(fitness, sudoku_mutation_tweak, initial_guess=initial_g, max_iters=40000)\n"
     ],
     "language": "python",
     "metadata": {},
     "outputs": [
      {
       "output_type": "stream",
       "stream": "stdout",
       "text": [
        "Error (steps=1000): 20\n",
        "Error (steps=2000): 20"
       ]
      },
      {
       "output_type": "stream",
       "stream": "stdout",
       "text": [
        "\n",
        "Error (steps=3000): 20"
       ]
      },
      {
       "output_type": "stream",
       "stream": "stdout",
       "text": [
        "\n",
        "Error (steps=4000): 20"
       ]
      },
      {
       "output_type": "stream",
       "stream": "stdout",
       "text": [
        "\n",
        "Error (steps=5000): 20"
       ]
      },
      {
       "output_type": "stream",
       "stream": "stdout",
       "text": [
        "\n",
        "Error (steps=6000): 20"
       ]
      },
      {
       "output_type": "stream",
       "stream": "stdout",
       "text": [
        "\n",
        "Error (steps=7000): 20"
       ]
      },
      {
       "output_type": "stream",
       "stream": "stdout",
       "text": [
        "\n",
        "Error (steps=8000): 20"
       ]
      },
      {
       "output_type": "stream",
       "stream": "stdout",
       "text": [
        "\n",
        "Error (steps=9000): 20"
       ]
      },
      {
       "output_type": "stream",
       "stream": "stdout",
       "text": [
        "\n",
        "Error (steps=10000): 20"
       ]
      },
      {
       "output_type": "stream",
       "stream": "stdout",
       "text": [
        "\n",
        "Error (steps=11000): 20"
       ]
      },
      {
       "output_type": "stream",
       "stream": "stdout",
       "text": [
        "\n",
        "Error (steps=12000): 20"
       ]
      },
      {
       "output_type": "stream",
       "stream": "stdout",
       "text": [
        "\n",
        "Error (steps=13000): 20"
       ]
      },
      {
       "output_type": "stream",
       "stream": "stdout",
       "text": [
        "\n",
        "Error (steps=14000): 20"
       ]
      },
      {
       "output_type": "stream",
       "stream": "stdout",
       "text": [
        "\n",
        "Error (steps=15000): 20"
       ]
      },
      {
       "output_type": "stream",
       "stream": "stdout",
       "text": [
        "\n",
        "Error (steps=16000): 20"
       ]
      },
      {
       "output_type": "stream",
       "stream": "stdout",
       "text": [
        "\n",
        "Error (steps=17000): 20"
       ]
      },
      {
       "output_type": "stream",
       "stream": "stdout",
       "text": [
        "\n",
        "Error (steps=18000): 20"
       ]
      },
      {
       "output_type": "stream",
       "stream": "stdout",
       "text": [
        "\n",
        "Error (steps=19000): 20"
       ]
      },
      {
       "output_type": "stream",
       "stream": "stdout",
       "text": [
        "\n",
        "Error (steps=20000): 20"
       ]
      },
      {
       "output_type": "stream",
       "stream": "stdout",
       "text": [
        "\n",
        "Error (steps=21000): 20"
       ]
      },
      {
       "output_type": "stream",
       "stream": "stdout",
       "text": [
        "\n",
        "Error (steps=22000): 20"
       ]
      },
      {
       "output_type": "stream",
       "stream": "stdout",
       "text": [
        "\n",
        "Error (steps=23000): 20"
       ]
      },
      {
       "output_type": "stream",
       "stream": "stdout",
       "text": [
        "\n",
        "Error (steps=24000): 20"
       ]
      },
      {
       "output_type": "stream",
       "stream": "stdout",
       "text": [
        "\n",
        "Error (steps=25000): 20"
       ]
      },
      {
       "output_type": "stream",
       "stream": "stdout",
       "text": [
        "\n",
        "Error (steps=26000): 20"
       ]
      },
      {
       "output_type": "stream",
       "stream": "stdout",
       "text": [
        "\n",
        "Error (steps=27000): 20"
       ]
      },
      {
       "output_type": "stream",
       "stream": "stdout",
       "text": [
        "\n",
        "Error (steps=28000): 20"
       ]
      },
      {
       "output_type": "stream",
       "stream": "stdout",
       "text": [
        "\n",
        "Error (steps=29000): 20"
       ]
      },
      {
       "output_type": "stream",
       "stream": "stdout",
       "text": [
        "\n",
        "Error (steps=30000): 20"
       ]
      },
      {
       "output_type": "stream",
       "stream": "stdout",
       "text": [
        "\n",
        "Error (steps=31000): 20"
       ]
      },
      {
       "output_type": "stream",
       "stream": "stdout",
       "text": [
        "\n",
        "Error (steps=32000): 20"
       ]
      },
      {
       "output_type": "stream",
       "stream": "stdout",
       "text": [
        "\n",
        "Error (steps=33000): 20"
       ]
      },
      {
       "output_type": "stream",
       "stream": "stdout",
       "text": [
        "\n",
        "Error (steps=34000): 20"
       ]
      },
      {
       "output_type": "stream",
       "stream": "stdout",
       "text": [
        "\n",
        "Error (steps=35000): 20"
       ]
      },
      {
       "output_type": "stream",
       "stream": "stdout",
       "text": [
        "\n",
        "Error (steps=36000): 20"
       ]
      },
      {
       "output_type": "stream",
       "stream": "stdout",
       "text": [
        "\n",
        "Error (steps=37000): 20"
       ]
      },
      {
       "output_type": "stream",
       "stream": "stdout",
       "text": [
        "\n",
        "Error (steps=38000): 20"
       ]
      },
      {
       "output_type": "stream",
       "stream": "stdout",
       "text": [
        "\n",
        "Error (steps=39000): 20"
       ]
      },
      {
       "output_type": "stream",
       "stream": "stdout",
       "text": [
        "\n",
        "Error (steps=40000): 20"
       ]
      },
      {
       "output_type": "stream",
       "stream": "stdout",
       "text": [
        "\n"
       ]
      }
     ],
     "prompt_number": 37
    },
    {
     "cell_type": "code",
     "collapsed": false,
     "input": [
      "np.reshape([int(round(i)) for i in ga_result], (9, -1))"
     ],
     "language": "python",
     "metadata": {},
     "outputs": [
      {
       "metadata": {},
       "output_type": "pyout",
       "prompt_number": 38,
       "text": [
        "array([[ -55,   53,    9,  -24,  -59,  -50,   55,   24,  -34],\n",
        "       [ -17,   72, -143,   57,  -60, -180,  -53, -272,  -74],\n",
        "       [-148,   48,  -66, -166,   -4,  -88,   12,  -22,   -8],\n",
        "       [  76,   22,  -24, -188,   72, -121,   71,  -16,   69],\n",
        "       [ -87, -104,  -30,  201, -162,   47, -110,   10,   67],\n",
        "       [ -47,  -50,   79,   41,    5,   45,  -52,   55,  -45],\n",
        "       [   8,  -45,   90,    8,   42,  -88, -172,    8,   90],\n",
        "       [-203,  -89, -124,  -83,    3,   48,   73,   82,  130],\n",
        "       [  92,  -84,  -34,   -6,  104,    1,  -83, -143,   64]])"
       ]
      }
     ],
     "prompt_number": 38
    },
    {
     "cell_type": "code",
     "collapsed": false,
     "input": [],
     "language": "python",
     "metadata": {},
     "outputs": []
    }
   ],
   "metadata": {}
  }
 ]
}