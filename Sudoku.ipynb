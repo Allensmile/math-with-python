{
 "metadata": {
  "name": "",
  "signature": "sha256:f29c2d708181f802060ce8c2660175f6be38985aad0a8e3381385ecad1299c2e"
 },
 "nbformat": 3,
 "nbformat_minor": 0,
 "worksheets": [
  {
   "cells": [
    {
     "cell_type": "markdown",
     "metadata": {},
     "source": [
      "# (Attempted) Solving Sudoku with Linear Algebra\n",
      "\n",
      "### Pretty-print matrix function"
     ]
    },
    {
     "cell_type": "code",
     "collapsed": false,
     "input": [
      "from IPython.display import HTML\n",
      "\n",
      "def print_matrix(mat):\n",
      "    t = [\"<table>\"]\n",
      "    for row in mat:\n",
      "        t.append(\"<tr>\")\n",
      "        for col in row:\n",
      "            t.append(\"<td>\" + str(col) + \"</td>\")\n",
      "        t.append(\"</tr>\")\n",
      "    t.append(\"</table>\")\n",
      "    return HTML(''.join(t))\n",
      "\n",
      "print_matrix([[1,2],[3,4]])"
     ],
     "language": "python",
     "metadata": {},
     "outputs": [
      {
       "html": [
        "<table><tr><td>1</td><td>2</td></tr><tr><td>3</td><td>4</td></tr></table>"
       ],
       "metadata": {},
       "output_type": "pyout",
       "prompt_number": 137,
       "text": [
        "<IPython.core.display.HTML at 0x10dd6d3d0>"
       ]
      }
     ],
     "prompt_number": 137
    },
    {
     "cell_type": "code",
     "collapsed": false,
     "input": [
      "import numpy as np\n",
      "import random"
     ],
     "language": "python",
     "metadata": {},
     "outputs": [],
     "prompt_number": 138
    },
    {
     "cell_type": "markdown",
     "metadata": {},
     "source": [
      "## 4x4 Sudoku\n",
      "\n",
      "<table class=\"invisible-table\"><tr><td>\n",
      "\n",
      "Puzzle\n",
      "<table class=\"padded-table\">\n",
      "<tr><td><b>1</b></td><td>&nbsp;</td><td>&nbsp;</td><td>&nbsp;</td></tr>\n",
      "<tr><td> </td><td>&nbsp;</td><td><b>4</b></td><td>&nbsp;</td></tr>\n",
      "<tr><td> </td><td><b>3</b></td><td>&nbsp;</td><td>&nbsp;</td></tr>\n",
      "<tr><td>&nbsp;</td><td>&nbsp;</td><td><b>2</b></td><td>&nbsp;</td></tr>\n",
      "</table>\n",
      "\n",
      "</td><td>\n",
      "\n",
      "Solution\n",
      "<table class=\"padded-table\">\n",
      "<tr><td>1</td><td>4</td><td>3</td><td>2</td></tr>\n",
      "<tr><td>3</td><td>2</td><td>4</td><td>1</td></tr>\n",
      "<tr><td>2</td><td>3</td><td>1</td><td>4</td></tr>\n",
      "<tr><td>4</td><td>1</td><td>2</td><td>3</td></tr>\n",
      "</table>\n",
      "\n",
      "</td></tr></table>\n",
      "\n",
      "<style>\n",
      ".padded-table td { padding: 15px; }\n",
      ".invisible-table { border: 0px; }\n",
      "</style>\n"
     ]
    },
    {
     "cell_type": "code",
     "collapsed": false,
     "input": [
      "m1 = [['a01', 'a02', 'a03', 'a04'],\n",
      "      ['a05', 'a06', 'a07', 'a08'],\n",
      "      ['a09', 'a10', 'a11', 'a12'],\n",
      "      ['a13', 'a14', 'a15', 'a16']]\n",
      "\n",
      "print_matrix(m1)"
     ],
     "language": "python",
     "metadata": {},
     "outputs": [
      {
       "html": [
        "<table><tr><td>a01</td><td>a02</td><td>a03</td><td>a04</td></tr><tr><td>a05</td><td>a06</td><td>a07</td><td>a08</td></tr><tr><td>a09</td><td>a10</td><td>a11</td><td>a12</td></tr><tr><td>a13</td><td>a14</td><td>a15</td><td>a16</td></tr></table>"
       ],
       "metadata": {},
       "output_type": "pyout",
       "prompt_number": 139,
       "text": [
        "<IPython.core.display.HTML at 0x10dd18e90>"
       ]
      }
     ],
     "prompt_number": 139
    },
    {
     "cell_type": "markdown",
     "metadata": {},
     "source": [
      "### System of Equations to describe puzzle\n",
      "\n",
      "#### Sudoku-constant equations\n",
      "\n",
      "These first 12 equations are the same for all 4x4 sudoku puzzles - they are the rules of the game:\n",
      "\n",
      "By Rows:\n",
      "\n",
      "* a01 + a02 + a03 + a04 = 10\n",
      "* a05 + a06 + a07 + a08 = 10\n",
      "* a09 + a10 + a11 + a12 = 10\n",
      "* a13 + a14 + a15 + a16 = 10\n",
      "\n",
      "By Columns:\n",
      "\n",
      "* a01 + a05 + a09 + a13 = 10\n",
      "* a02 + a06 + a10 + a14 = 10\n",
      "* a03 + a07 + a11 + a15 = 10\n",
      "* a04 + a08 + a12 + a16 = 10\n",
      "\n",
      "By Quandrants:\n",
      "\n",
      "* a01 + a02 + a05 + a06 = 10\n",
      "* a03 + a04 + a07 + a08 = 10\n",
      "* a09 + a10 + a13 + a14 = 10\n",
      "* a11 + a12 + a15 + a16 = 10\n",
      "\n",
      "\n",
      "#### Puzzle-specific equations\n",
      "\n",
      "These last 4 equations are what we are given for this particular puzzle:\n",
      "\n",
      "* a01 = 1\n",
      "* a07 = 4\n",
      "* a10 = 3\n",
      "* a15 = 2\n",
      "\n"
     ]
    },
    {
     "cell_type": "code",
     "collapsed": false,
     "input": [
      "a =   [[1, 1, 1, 1, 0, 0, 0, 0, 0, 0, 0, 0, 0, 0, 0, 0],\n",
      "       [0, 0, 0, 0, 1, 1, 1, 1, 0, 0, 0, 0, 0, 0, 0, 0],\n",
      "       [0, 0, 0, 0, 0, 0, 0, 0, 1, 1, 1, 1, 0, 0, 0, 0],\n",
      "       [0, 0, 0, 0, 0, 0, 0, 0, 0, 0, 0, 0, 1, 1, 1, 1],\n",
      "       \n",
      "       [1, 0, 0, 0, 1, 0, 0, 0, 1, 0, 0, 0, 1, 0, 0, 0],\n",
      "       [0, 1, 0, 0, 0, 1, 0, 0, 0, 1, 0, 0, 0, 1, 0, 0],\n",
      "       [0, 0, 1, 0, 0, 0, 1, 0, 0, 0, 1, 0, 0, 0, 1, 0],\n",
      "       [0, 0, 0, 1, 0, 0, 0, 1, 0, 0, 0, 1, 0, 0, 0, 1],\n",
      "       \n",
      "       [1, 1, 0, 0, 1, 1, 0, 0, 0, 0, 0, 0, 0, 0, 0, 0],\n",
      "       [0, 0, 1, 1, 0, 0, 1, 1, 0, 0, 0, 0, 0, 0, 0, 0],\n",
      "       [0, 0, 0, 0, 0, 0, 0, 0, 1, 1, 0, 0, 1, 1, 0, 0],\n",
      "       [0, 0, 0, 0, 0, 0, 0, 0, 0, 0, 1, 1, 0, 0, 1, 1],\n",
      "       \n",
      "       [1, 0, 0, 0, 0, 0, 0, 0, 0, 0, 0, 0, 0, 0, 0, 0],\n",
      "       [0, 0, 0, 0, 0, 0, 1, 0, 0, 0, 0, 0, 0, 0, 0, 0],\n",
      "       [0, 0, 0, 0, 0, 0, 0, 0, 0, 1, 0, 0, 0, 0, 0, 0],\n",
      "       [0, 0, 0, 0, 0, 0, 0, 0, 0, 0, 0, 0, 0, 0, 1, 0]]\n",
      "\n",
      "b = [10, 10, 10, 10,  10, 10, 10, 10,  10, 10, 10, 10,  1, 4, 3, 2]"
     ],
     "language": "python",
     "metadata": {},
     "outputs": [],
     "prompt_number": 140
    },
    {
     "cell_type": "code",
     "collapsed": false,
     "input": [
      "x = np.linalg.lstsq(a,b)\n",
      "np.reshape(x[0], (4,-1))"
     ],
     "language": "python",
     "metadata": {},
     "outputs": [
      {
       "metadata": {},
       "output_type": "pyout",
       "prompt_number": 141,
       "text": [
        "array([[ 1.        ,  3.47387651,  0.66316228,  4.86296121],\n",
        "       [ 3.92477232,  1.60135117,  4.        ,  0.47387651],\n",
        "       [ 2.04450137,  3.        ,  3.33683772,  1.61866091],\n",
        "       [ 3.03072631,  1.92477232,  2.        ,  3.04450137]])"
       ]
      }
     ],
     "prompt_number": 141
    },
    {
     "cell_type": "code",
     "collapsed": false,
     "input": [
      "solution = np.reshape([int(round(i)) for i in x[0]], (4, -1))\n",
      "solution"
     ],
     "language": "python",
     "metadata": {},
     "outputs": [
      {
       "metadata": {},
       "output_type": "pyout",
       "prompt_number": 142,
       "text": [
        "array([[1, 3, 1, 5],\n",
        "       [4, 2, 4, 0],\n",
        "       [2, 3, 3, 2],\n",
        "       [3, 2, 2, 3]])"
       ]
      }
     ],
     "prompt_number": 142
    },
    {
     "cell_type": "markdown",
     "metadata": {},
     "source": [
      "# Linear Regression Implementation\n",
      "\n",
      "I wanted to implement my own linear regression algorithm to better understand how it works."
     ]
    },
    {
     "cell_type": "code",
     "collapsed": false,
     "input": [
      "# TODO: Add precesion early break\n",
      "def linear_regression(a, b, precision=0.01, learning_rate=0.1, max_iters = 200):\n",
      "    m = len(b)\n",
      "    omega = np.ones(m)\n",
      "    \n",
      "    for iter in xrange(max_iters):\n",
      "        for i in xrange(m):\n",
      "            omega[i] = omega[i] - learning_rate * (1.0/m) * sum((np.dot(a, omega) - b) * a[i])\n",
      "        \n",
      "    return omega"
     ],
     "language": "python",
     "metadata": {},
     "outputs": [],
     "prompt_number": 143
    },
    {
     "cell_type": "markdown",
     "metadata": {},
     "source": [
      "### Test problem to solve"
     ]
    },
    {
     "cell_type": "code",
     "collapsed": false,
     "input": [
      "# 3x+4y=7 and 5x+6y=8\n",
      "a1=[[3,4],[5,6]]\n",
      "b1=[7,8]\n",
      "linear_regression(a1,b1)"
     ],
     "language": "python",
     "metadata": {},
     "outputs": [
      {
       "metadata": {},
       "output_type": "pyout",
       "prompt_number": 144,
       "text": [
        "array([-5. ,  5.5])"
       ]
      }
     ],
     "prompt_number": 144
    },
    {
     "cell_type": "markdown",
     "metadata": {},
     "source": [
      "### Compare with numpy implementation's solution"
     ]
    },
    {
     "cell_type": "code",
     "collapsed": false,
     "input": [
      "((x,y),_,_,_) = np.linalg.lstsq(a1,b1)\n",
      "(x,y)"
     ],
     "language": "python",
     "metadata": {},
     "outputs": [
      {
       "metadata": {},
       "output_type": "pyout",
       "prompt_number": 145,
       "text": [
        "(-4.9999999999999769, 5.4999999999999813)"
       ]
      }
     ],
     "prompt_number": 145
    },
    {
     "cell_type": "code",
     "collapsed": false,
     "input": [
      "result = linear_regression(a,b)\n",
      "result"
     ],
     "language": "python",
     "metadata": {},
     "outputs": [
      {
       "metadata": {},
       "output_type": "pyout",
       "prompt_number": 146,
       "text": [
        "array([  4.71143849,   4.688242  ,   4.66519049,  -0.71713789,\n",
        "         1.9568043 ,  -6.86351593,   1.06255254,  17.08008666,\n",
        "        -1.34069241,  10.54590296,  -3.6327123 ,   7.43473406,\n",
        "        -0.87012213,   7.11479335,  -4.74101031,  -2.80275689])"
       ]
      }
     ],
     "prompt_number": 146
    },
    {
     "cell_type": "markdown",
     "metadata": {},
     "source": [
      "# Trying on Normal (9x9) Sudoku Puzzle"
     ]
    },
    {
     "cell_type": "code",
     "collapsed": false,
     "input": [
      "s9x9_flat = np.array(['a'+str(i) for i in xrange(81)])\n",
      "s9x9 = np.reshape(s9x9_flat, (9, -1))\n",
      "\n",
      "print_matrix(s9x9)"
     ],
     "language": "python",
     "metadata": {},
     "outputs": [
      {
       "html": [
        "<table><tr><td>a0</td><td>a1</td><td>a2</td><td>a3</td><td>a4</td><td>a5</td><td>a6</td><td>a7</td><td>a8</td></tr><tr><td>a9</td><td>a10</td><td>a11</td><td>a12</td><td>a13</td><td>a14</td><td>a15</td><td>a16</td><td>a17</td></tr><tr><td>a18</td><td>a19</td><td>a20</td><td>a21</td><td>a22</td><td>a23</td><td>a24</td><td>a25</td><td>a26</td></tr><tr><td>a27</td><td>a28</td><td>a29</td><td>a30</td><td>a31</td><td>a32</td><td>a33</td><td>a34</td><td>a35</td></tr><tr><td>a36</td><td>a37</td><td>a38</td><td>a39</td><td>a40</td><td>a41</td><td>a42</td><td>a43</td><td>a44</td></tr><tr><td>a45</td><td>a46</td><td>a47</td><td>a48</td><td>a49</td><td>a50</td><td>a51</td><td>a52</td><td>a53</td></tr><tr><td>a54</td><td>a55</td><td>a56</td><td>a57</td><td>a58</td><td>a59</td><td>a60</td><td>a61</td><td>a62</td></tr><tr><td>a63</td><td>a64</td><td>a65</td><td>a66</td><td>a67</td><td>a68</td><td>a69</td><td>a70</td><td>a71</td></tr><tr><td>a72</td><td>a73</td><td>a74</td><td>a75</td><td>a76</td><td>a77</td><td>a78</td><td>a79</td><td>a80</td></tr></table>"
       ],
       "metadata": {},
       "output_type": "pyout",
       "prompt_number": 147,
       "text": [
        "<IPython.core.display.HTML at 0x10dd6da10>"
       ]
      }
     ],
     "prompt_number": 147
    },
    {
     "cell_type": "markdown",
     "metadata": {},
     "source": [
      "### Generate equations (in matrix form)"
     ]
    },
    {
     "cell_type": "code",
     "collapsed": false,
     "input": [
      "sudoku_base = []\n",
      "num_rows = 9\n",
      "num_cols = 9\n",
      "\n",
      "# Generate equations for rows\n",
      "for row in xrange(num_rows):\n",
      "    row_offset = num_rows * row\n",
      "    new_row = [0 for i in xrange(num_rows * num_cols)]\n",
      "    for i in xrange(num_rows):\n",
      "        new_row[row_offset + i] = 1\n",
      "    sudoku_base.append(new_row)\n",
      "\n",
      "# Generate equations for columns\n",
      "for col in xrange(num_cols):\n",
      "    col_offset = num_cols * col\n",
      "    new_row = [0 for i in xrange(num_rows * num_cols)]\n",
      "    for i in xrange(num_cols):\n",
      "        new_row[i * 9 + col] = 1\n",
      "    sudoku_base.append(new_row)\n",
      "\n",
      "# Generate equations for squares\n",
      "current_cell = 0\n",
      "for square_start in [0, 3, 6, 27, 30, 33, 54, 57, 60]:\n",
      "    new_row = [0 for i in xrange(num_rows * num_cols)]\n",
      "    for cell_offset in [0, 1, 2, 9, 10, 11, 18, 19, 20]:\n",
      "        new_row[square_start+cell_offset] = 1\n",
      "    sudoku_base.append(new_row)"
     ],
     "language": "python",
     "metadata": {},
     "outputs": [],
     "prompt_number": 148
    },
    {
     "cell_type": "code",
     "collapsed": false,
     "input": [
      "# This is a wide matrix\n",
      "#print_matrix(sudoku_base)"
     ],
     "language": "python",
     "metadata": {},
     "outputs": [],
     "prompt_number": 149
    },
    {
     "cell_type": "code",
     "collapsed": false,
     "input": [
      "# Definition of sample puzzle\n",
      "puzzle1 = {0:8, 3:1, 4:6, 9:4, 10:1, \n",
      "          12:9, 14:8, 17:6, 25:1, 31:8, \n",
      "          32:6, 35:3, 37:8, 38:9, 40:3, \n",
      "          42:2, 43:5, 45:3, 48:2, 49:9, \n",
      "          55:2, 63:7, 66:8, 68:4, 70:6, \n",
      "          71:5, 76:5, 77:7, 80:4}"
     ],
     "language": "python",
     "metadata": {},
     "outputs": [],
     "prompt_number": 150
    },
    {
     "cell_type": "code",
     "collapsed": false,
     "input": [
      "def print_puzzle(puzzle):\n",
      "    puzzle_mat = [' ' for i in xrange(81)]\n",
      "    for (k,v) in puzzle.items():\n",
      "        puzzle_mat[k] = v\n",
      "    return print_matrix(np.reshape(puzzle_mat, (9, -1)))"
     ],
     "language": "python",
     "metadata": {},
     "outputs": [],
     "prompt_number": 151
    },
    {
     "cell_type": "code",
     "collapsed": false,
     "input": [
      "print_puzzle(puzzle1)"
     ],
     "language": "python",
     "metadata": {},
     "outputs": [
      {
       "html": [
        "<table><tr><td>8</td><td> </td><td> </td><td>1</td><td>6</td><td> </td><td> </td><td> </td><td> </td></tr><tr><td>4</td><td>1</td><td> </td><td>9</td><td> </td><td>8</td><td> </td><td> </td><td>6</td></tr><tr><td> </td><td> </td><td> </td><td> </td><td> </td><td> </td><td> </td><td>1</td><td> </td></tr><tr><td> </td><td> </td><td> </td><td> </td><td>8</td><td>6</td><td> </td><td> </td><td>3</td></tr><tr><td> </td><td>8</td><td>9</td><td> </td><td>3</td><td> </td><td>2</td><td>5</td><td> </td></tr><tr><td>3</td><td> </td><td> </td><td>2</td><td>9</td><td> </td><td> </td><td> </td><td> </td></tr><tr><td> </td><td>2</td><td> </td><td> </td><td> </td><td> </td><td> </td><td> </td><td> </td></tr><tr><td>7</td><td> </td><td> </td><td>8</td><td> </td><td>4</td><td> </td><td>6</td><td>5</td></tr><tr><td> </td><td> </td><td> </td><td> </td><td>5</td><td>7</td><td> </td><td> </td><td>4</td></tr></table>"
       ],
       "metadata": {},
       "output_type": "pyout",
       "prompt_number": 152,
       "text": [
        "<IPython.core.display.HTML at 0x10dd78990>"
       ]
      }
     ],
     "prompt_number": 152
    },
    {
     "cell_type": "code",
     "collapsed": false,
     "input": [
      "print \"Number of equations:\", len(puzzle1)+len(a)"
     ],
     "language": "python",
     "metadata": {},
     "outputs": [
      {
       "output_type": "stream",
       "stream": "stdout",
       "text": [
        "Number of equations: 45\n"
       ]
      }
     ],
     "prompt_number": 153
    },
    {
     "cell_type": "code",
     "collapsed": false,
     "input": [
      "print \"Number of unknowns:\", 81 - len(puzzle1)"
     ],
     "language": "python",
     "metadata": {},
     "outputs": [
      {
       "output_type": "stream",
       "stream": "stdout",
       "text": [
        "Number of unknowns: 52\n"
       ]
      }
     ],
     "prompt_number": 154
    },
    {
     "cell_type": "code",
     "collapsed": false,
     "input": [
      "def get_puzzle_rep(puzzle):\n",
      "    a = sudoku_base[:]\n",
      "    b = [sum(range(1,10)) for i in xrange(len(a))]\n",
      "    for (k,v) in puzzle.items():\n",
      "        new_a_row = [0 for i in xrange(81)]\n",
      "        new_a_row[k] = 1\n",
      "        a.append(new_a_row)\n",
      "        b.append(v)\n",
      "    return (a,b)\n"
     ],
     "language": "python",
     "metadata": {},
     "outputs": [],
     "prompt_number": 155
    },
    {
     "cell_type": "code",
     "collapsed": false,
     "input": [
      "p1_a, p1_b = get_puzzle_rep(puzzle1)"
     ],
     "language": "python",
     "metadata": {},
     "outputs": [],
     "prompt_number": 156
    },
    {
     "cell_type": "code",
     "collapsed": false,
     "input": [
      "len(p1_a)"
     ],
     "language": "python",
     "metadata": {},
     "outputs": [
      {
       "metadata": {},
       "output_type": "pyout",
       "prompt_number": 157,
       "text": [
        "56"
       ]
      }
     ],
     "prompt_number": 157
    },
    {
     "cell_type": "code",
     "collapsed": false,
     "input": [
      "x = np.linalg.lstsq(p1_a,p1_b)\n",
      "solution = np.reshape([int(round(i)) for i in x[0]], (9, -1))\n",
      "solution"
     ],
     "language": "python",
     "metadata": {},
     "outputs": [
      {
       "metadata": {},
       "output_type": "pyout",
       "prompt_number": 158,
       "text": [
        "array([[  8,  55, -39,   1,   6,  -1,  -9,  17,   6],\n",
        "       [  4,   1,  -2,   9,   3,   8,  17,  -2,   6],\n",
        "       [ 12,  -2,   7,   9,  -7,  17,  15,   1,  -7],\n",
        "       [ 17, -32,  26,   7,   8,   6,   8,   1,   3],\n",
        "       [ -1,   8,   9,   5,   3,   9,   2,   5,   5],\n",
        "       [  3,   2,  13,   2,   9,  -4,   5,   8,   7],\n",
        "       [ -4,   2,   4,   0,  14,  -1,  12,   2,  15],\n",
        "       [  7,   2,  13,   8,   4,   4,  -4,   6,   5],\n",
        "       [ -1,   9,  13,   4,   5,   7,  -2,   7,   4]])"
       ]
      }
     ],
     "prompt_number": 158
    },
    {
     "cell_type": "markdown",
     "metadata": {},
     "source": [
      "# Constrained Linear Regression - scipy.optimize.nnls"
     ]
    },
    {
     "cell_type": "code",
     "collapsed": false,
     "input": [
      "import scipy.optimize"
     ],
     "language": "python",
     "metadata": {},
     "outputs": [],
     "prompt_number": 159
    },
    {
     "cell_type": "code",
     "collapsed": false,
     "input": [
      "result = scipy.optimize.nnls(p1_a, p1_b)"
     ],
     "language": "python",
     "metadata": {},
     "outputs": [],
     "prompt_number": 160
    },
    {
     "cell_type": "code",
     "collapsed": false,
     "input": [
      "solution = np.reshape([int(round(i)) for i in result[0]], (9, -1))\n",
      "solution"
     ],
     "language": "python",
     "metadata": {},
     "outputs": [
      {
       "metadata": {},
       "output_type": "pyout",
       "prompt_number": 161,
       "text": [
        "array([[ 8, 30,  0,  1,  6,  0,  0,  0,  0],\n",
        "       [ 4,  1,  0,  9,  1,  8, 16,  0,  6],\n",
        "       [ 0,  2,  0,  0,  0, 20, 22,  1,  0],\n",
        "       [23,  0,  0,  0,  8,  6,  5,  0,  3],\n",
        "       [ 0,  8,  9, 17,  3,  0,  2,  5,  1],\n",
        "       [ 3,  2,  0,  2,  9,  0,  0,  4, 25],\n",
        "       [ 0,  2, 21,  8, 13,  0,  0,  0,  1],\n",
        "       [ 7,  0, 15,  8,  0,  4,  0,  6,  5],\n",
        "       [ 0,  0,  0,  0,  5,  7,  0, 29,  4]])"
       ]
      }
     ],
     "prompt_number": 161
    },
    {
     "cell_type": "markdown",
     "metadata": {},
     "source": [
      "# scipy.optimize.fmin_slsqp\n"
     ]
    },
    {
     "cell_type": "code",
     "collapsed": false,
     "input": [
      "import scipy.optimize"
     ],
     "language": "python",
     "metadata": {},
     "outputs": [],
     "prompt_number": 162
    },
    {
     "cell_type": "code",
     "collapsed": false,
     "input": [
      "def objective_func(x):\n",
      "    mat_result = sum((np.dot(p1_a, x) - p1_b)**2)\n",
      "    #duplicate_count = 2 * sum([ (9 - len(set(x[row_start:row_start+9]))) for row_start in xrange(0, 81, 9)])\n",
      "    return mat_result # + duplicate_count"
     ],
     "language": "python",
     "metadata": {},
     "outputs": [],
     "prompt_number": 163
    },
    {
     "cell_type": "code",
     "collapsed": false,
     "input": [
      "objective_func(result[0])"
     ],
     "language": "python",
     "metadata": {},
     "outputs": [
      {
       "metadata": {},
       "output_type": "pyout",
       "prompt_number": 164,
       "text": [
        "3.8769062225152388e-27"
       ]
      }
     ],
     "prompt_number": 164
    },
    {
     "cell_type": "code",
     "collapsed": false,
     "input": [
      "random_guess = [random.randint(1, 9) for i in xrange(81)]\n",
      "objective_func(random_guess)"
     ],
     "language": "python",
     "metadata": {},
     "outputs": [
      {
       "metadata": {},
       "output_type": "pyout",
       "prompt_number": 165,
       "text": [
        "1623"
       ]
      }
     ],
     "prompt_number": 165
    },
    {
     "cell_type": "code",
     "collapsed": false,
     "input": [
      "slsqp_result = scipy.optimize.fmin_slsqp(func=objective_func, x0=random_guess, bounds=[(1,9) for i in xrange(81)])"
     ],
     "language": "python",
     "metadata": {},
     "outputs": [
      {
       "output_type": "stream",
       "stream": "stdout",
       "text": [
        "Optimization terminated successfully.    (Exit mode 0)\n",
        "            Current function value: 2.3760719731e-07\n",
        "            Iterations: 33\n",
        "            Function evaluations: 2769\n",
        "            Gradient evaluations: 33\n"
       ]
      }
     ],
     "prompt_number": 166
    },
    {
     "cell_type": "code",
     "collapsed": false,
     "input": [
      "slsqp_result"
     ],
     "language": "python",
     "metadata": {},
     "outputs": [
      {
       "metadata": {},
       "output_type": "pyout",
       "prompt_number": 167,
       "text": [
        "array([ 7.99996968,  6.74039366,  4.36422605,  1.00007923,  6.00001267,\n",
        "        1.9825608 ,  4.82479503,  6.03372299,  6.05425366,  3.99999924,\n",
        "        1.00008482,  4.49522813,  8.99999381,  3.37334576,  7.99992574,\n",
        "        3.9678952 ,  5.16354298,  5.9999628 ,  4.74637939,  6.45489293,\n",
        "        5.19883758,  5.92634175,  3.50006128,  6.21765673,  6.82831569,\n",
        "        1.00009138,  5.12744782,  3.08796132,  3.92775971,  3.26853483,\n",
        "        4.11796601,  8.00007822,  5.99995794,  7.45200197,  6.14577414,\n",
        "        2.99991926,  4.69958178,  7.99983211,  8.99988305,  4.72238479,\n",
        "        2.99997945,  5.01370006,  1.99995442,  5.00002135,  3.56465734,\n",
        "        3.00006426,  5.97398986,  4.04246985,  2.00013362,  8.99999779,\n",
        "        3.14580921,  7.05304243,  5.26767585,  5.5169075 ,  6.05563155,\n",
        "        2.00006838,  4.19377071,  6.99036744,  4.58567087,  3.64036093,\n",
        "        4.10962633,  6.68782442,  6.73678388,  6.99990707,  3.86585505,\n",
        "        4.83896845,  8.00012894,  2.54093128,  4.00007659,  3.75395902,\n",
        "        6.00005396,  5.00003126,  4.41038512,  7.03718299,  5.59815806,\n",
        "        3.24263078,  4.99992868,  6.99992848,  5.01041477,  3.7013407 ,\n",
        "        3.99999943])"
       ]
      }
     ],
     "prompt_number": 167
    },
    {
     "cell_type": "code",
     "collapsed": false,
     "input": [
      "z = np.reshape([int(round(i)) for i in slsqp_result], (9, -1))\n",
      "z"
     ],
     "language": "python",
     "metadata": {},
     "outputs": [
      {
       "metadata": {},
       "output_type": "pyout",
       "prompt_number": 168,
       "text": [
        "array([[8, 7, 4, 1, 6, 2, 5, 6, 6],\n",
        "       [4, 1, 4, 9, 3, 8, 4, 5, 6],\n",
        "       [5, 6, 5, 6, 4, 6, 7, 1, 5],\n",
        "       [3, 4, 3, 4, 8, 6, 7, 6, 3],\n",
        "       [5, 8, 9, 5, 3, 5, 2, 5, 4],\n",
        "       [3, 6, 4, 2, 9, 3, 7, 5, 6],\n",
        "       [6, 2, 4, 7, 5, 4, 4, 7, 7],\n",
        "       [7, 4, 5, 8, 3, 4, 4, 6, 5],\n",
        "       [4, 7, 6, 3, 5, 7, 5, 4, 4]])"
       ]
      }
     ],
     "prompt_number": 168
    },
    {
     "cell_type": "code",
     "collapsed": false,
     "input": [
      "objective_func(slsqp_result)"
     ],
     "language": "python",
     "metadata": {},
     "outputs": [
      {
       "metadata": {},
       "output_type": "pyout",
       "prompt_number": 169,
       "text": [
        "2.3760719731019293e-07"
       ]
      }
     ],
     "prompt_number": 169
    },
    {
     "cell_type": "markdown",
     "metadata": {},
     "source": [
      "# Genetic Algorithm\n",
      "\n",
      "The fmin_slsqp result seemed so close, I was curious if running the GA on its output would tweak the last few values into place.  It turns out not to work."
     ]
    },
    {
     "cell_type": "code",
     "collapsed": false,
     "input": [
      "def sudoku_fitness(a, b, attempt):\n",
      "    return sum((np.dot(a, attempt) - b)**2)\n",
      "\n",
      "def sudoku_mutation_swap(current, max_mutations=3):\n",
      "    num_mutations = random.randint(1, max_mutations)\n",
      "    baby = current[:]\n",
      "    for i in xrange(num_mutations):\n",
      "        index1 = random.randint(0,80)\n",
      "        index2 = random.randint(0,80)\n",
      "        baby[index1], baby[index2] = baby[index2], baby[index1]\n",
      "    return baby\n",
      "\n",
      "def sudoku_mutation_tweak(current, max_mutations=3):\n",
      "    num_mutations = random.randint(1, max_mutations)\n",
      "    baby = current[:]\n",
      "    for i in xrange(max_mutations):\n",
      "        index1 = random.randint(0,80)\n",
      "        index2 = random.randint(0,80)\n",
      "        tweak_amount = random.randint(1, 3)\n",
      "        baby[index1] = ((baby[index1]+tweak_amount) % 9) + 1\n",
      "        baby[index2] = ((baby[index2]+tweak_amount) % 9) + 1\n",
      "    return baby\n",
      "\n",
      "def sudoku_genetic_algorithm(fitness_func, mutation_func, initial_guess=None, max_iters=1000):\n",
      "    iter_count = 0\n",
      "    error_steps = []\n",
      "    current = np.array([i for i in xrange(1,10) for j in xrange(1,10)])\n",
      "    current_fitness = 100000000 # really big - assume the guess is really bad\n",
      "\n",
      "    if initial_guess != None:\n",
      "        current = initial_guess[:]\n",
      "        current_fitness = fitness_func(current)\n",
      "    \n",
      "    for i in xrange(max_iters):\n",
      "        baby = mutation_func(current)\n",
      "        baby_fitness = fitness_func(baby)\n",
      "        \n",
      "        # If we found a perfect solution, just return it!\n",
      "        if baby_fitness == 0:\n",
      "            return (baby, 0)\n",
      "        \n",
      "        # Compare baby fitness to current\n",
      "        elif baby_fitness < current_fitness:\n",
      "            print \"Doing switch: baby_fitness=%d, current_fitness=%d\" % (baby_fitness, current_fitness)\n",
      "            current = baby[:]\n",
      "            current_fitness = baby_fitness\n",
      "        \n",
      "        iter_count += 1\n",
      "        if iter_count % 10000 == 0:\n",
      "            print \"Error (steps=%d): %d\" % (iter_count, current_fitness)\n",
      "            error_steps.append(current_fitness)\n",
      "            \n",
      "    return (current, error_steps)"
     ],
     "language": "python",
     "metadata": {},
     "outputs": [],
     "prompt_number": 170
    },
    {
     "cell_type": "code",
     "collapsed": false,
     "input": [
      "initial_g = np.array([int(round(i)) for i in slsqp_result])\n",
      "fitness = lambda attempt: sudoku_fitness(p1_a, p1_b, attempt)\n",
      "print \"Initial fitness:\", fitness(initial_g)\n",
      "(ga_result, ga_error) = sudoku_genetic_algorithm(fitness, sudoku_mutation_tweak, initial_guess=initial_g, max_iters=50000)\n"
     ],
     "language": "python",
     "metadata": {},
     "outputs": [
      {
       "output_type": "stream",
       "stream": "stdout",
       "text": [
        "Initial fitness: 11\n",
        "Error (steps=10000): 11"
       ]
      },
      {
       "output_type": "stream",
       "stream": "stdout",
       "text": [
        "\n",
        "Error (steps=20000): 11"
       ]
      },
      {
       "output_type": "stream",
       "stream": "stdout",
       "text": [
        "\n",
        "Error (steps=30000): 11"
       ]
      },
      {
       "output_type": "stream",
       "stream": "stdout",
       "text": [
        "\n",
        "Error (steps=40000): 11"
       ]
      },
      {
       "output_type": "stream",
       "stream": "stdout",
       "text": [
        "\n",
        "Error (steps=50000): 11"
       ]
      },
      {
       "output_type": "stream",
       "stream": "stdout",
       "text": [
        "\n"
       ]
      }
     ],
     "prompt_number": 171
    },
    {
     "cell_type": "code",
     "collapsed": false,
     "input": [
      "np.reshape([int(round(i)) for i in ga_result], (9, -1))"
     ],
     "language": "python",
     "metadata": {},
     "outputs": [
      {
       "metadata": {},
       "output_type": "pyout",
       "prompt_number": 172,
       "text": [
        "array([[1, 5, 7, 2, 6, 6, 9, 7, 2],\n",
        "       [2, 1, 2, 1, 1, 8, 4, 2, 5],\n",
        "       [1, 1, 8, 2, 9, 3, 7, 2, 6],\n",
        "       [9, 3, 4, 2, 4, 8, 5, 6, 4],\n",
        "       [1, 1, 9, 8, 9, 8, 2, 1, 5],\n",
        "       [2, 4, 6, 1, 5, 9, 2, 4, 6],\n",
        "       [5, 7, 8, 5, 1, 9, 1, 4, 5],\n",
        "       [7, 6, 6, 9, 9, 8, 2, 2, 5],\n",
        "       [2, 2, 2, 3, 2, 3, 7, 9, 5]])"
       ]
      }
     ],
     "prompt_number": 172
    },
    {
     "cell_type": "code",
     "collapsed": false,
     "input": [
      "np.reshape([int(round(i)) for i in initial_g], (9, -1))"
     ],
     "language": "python",
     "metadata": {},
     "outputs": [
      {
       "metadata": {},
       "output_type": "pyout",
       "prompt_number": 173,
       "text": [
        "array([[1, 5, 7, 2, 6, 6, 9, 7, 2],\n",
        "       [2, 1, 2, 1, 1, 8, 4, 2, 5],\n",
        "       [1, 1, 8, 2, 9, 3, 7, 2, 6],\n",
        "       [9, 3, 4, 2, 4, 8, 5, 6, 4],\n",
        "       [1, 1, 9, 8, 9, 8, 2, 1, 5],\n",
        "       [2, 4, 6, 1, 5, 9, 2, 4, 6],\n",
        "       [5, 7, 8, 5, 1, 9, 1, 4, 5],\n",
        "       [7, 6, 6, 9, 9, 8, 2, 2, 5],\n",
        "       [2, 2, 2, 3, 2, 3, 7, 9, 5]])"
       ]
      }
     ],
     "prompt_number": 173
    },
    {
     "cell_type": "code",
     "collapsed": false,
     "input": [],
     "language": "python",
     "metadata": {},
     "outputs": [],
     "prompt_number": 173
    }
   ],
   "metadata": {}
  }
 ]
}