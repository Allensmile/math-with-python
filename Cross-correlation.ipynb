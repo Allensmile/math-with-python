{
 "metadata": {
  "name": ""
 },
 "nbformat": 3,
 "nbformat_minor": 0,
 "worksheets": [
  {
   "cells": [
    {
     "cell_type": "markdown",
     "metadata": {},
     "source": [
      "## Cross-correlation\n",
      "\n",
      "I am going to generate a \"random file\" - an array with values ranging between -1 and 1, and then randomly choose a \"random slice\" - a subarray portion from the \"random file\".  I'm then going to randomly mutate some of the values in teh subarray, and see if I can still find where in the \"random file\" the \"random slice\" came from."
     ]
    },
    {
     "cell_type": "code",
     "collapsed": false,
     "input": [
      "import random\n",
      "\n",
      "FILE_SIZE = 100000\n",
      "SLICE_SIZE = 100\n",
      "\n",
      "random_file = asarray([random.uniform(-1,1) for i in xrange(FILE_SIZE)])\n",
      "random_slice_index = random.randint(0, FILE_SIZE-SLICE_SIZE)\n",
      "random_slice = random_file[random_slice_index:random_slice_index+SLICE_SIZE]\n",
      "\n",
      "# Randomly change the sample by about 50% - simulating a 50% noise\n",
      "random_slice_mutated = asarray([i + random.uniform(-0.5,0.5) for i in random_slice])"
     ],
     "language": "python",
     "metadata": {},
     "outputs": [],
     "prompt_number": 47
    },
    {
     "cell_type": "markdown",
     "metadata": {},
     "source": [
      "So now, we are going to try to find where in `random_file` the `random_slice_mutated` came from.  We know it should be `random_slice_index`.\n",
      "\n",
      "### First, let's write our own cross-correlation function to find it."
     ]
    },
    {
     "cell_type": "code",
     "collapsed": false,
     "input": [
      "# Coding our own cross-correlation algorithm\n",
      "\n",
      "def find_sample_index(container, sample):\n",
      "    best_match_index = 0\n",
      "    largest_dot_product = 0\n",
      "    sample_size = len(sample)\n",
      "    for index in xrange(len(container) - sample_size):\n",
      "        dot = np.dot(container[index:index+sample_size], sample)\n",
      "        if dot > largest_dot_product:\n",
      "            best_match_index = index\n",
      "            largest_dot_product = dot\n",
      "    return (best_match_index, largest_dot_product)\n",
      "    "
     ],
     "language": "python",
     "metadata": {},
     "outputs": [],
     "prompt_number": 48
    },
    {
     "cell_type": "code",
     "collapsed": false,
     "input": [
      "find_sample_index(random_file, random_slice_mutated)"
     ],
     "language": "python",
     "metadata": {},
     "outputs": [
      {
       "metadata": {},
       "output_type": "pyout",
       "prompt_number": 49,
       "text": [
        "(27456, 34.03536630897878)"
       ]
      }
     ],
     "prompt_number": 49
    },
    {
     "cell_type": "markdown",
     "metadata": {},
     "source": [
      "### Now, let's use the `scipy.signal.correlate()` function instead of our own one."
     ]
    },
    {
     "cell_type": "code",
     "collapsed": false,
     "input": [
      "import scipy.signal\n",
      "result = scipy.signal.correlate(random_file, random_slice)\n",
      "max_correlation_index = argmax(result) - (SLICE_SIZE-1)\n",
      "max_correlation_index"
     ],
     "language": "python",
     "metadata": {},
     "outputs": [
      {
       "metadata": {},
       "output_type": "pyout",
       "prompt_number": 50,
       "text": [
        "27456"
       ]
      }
     ],
     "prompt_number": 50
    },
    {
     "cell_type": "code",
     "collapsed": false,
     "input": [],
     "language": "python",
     "metadata": {},
     "outputs": [],
     "prompt_number": 50
    }
   ],
   "metadata": {}
  }
 ]
}